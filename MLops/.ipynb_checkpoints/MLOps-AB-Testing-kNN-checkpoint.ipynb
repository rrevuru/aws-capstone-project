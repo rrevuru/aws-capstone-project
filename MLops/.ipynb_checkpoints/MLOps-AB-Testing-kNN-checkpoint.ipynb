{
 "cells": [
  {
   "cell_type": "markdown",
   "metadata": {},
   "source": [
    "# Importing Libraries"
   ]
  },
  {
   "cell_type": "code",
   "execution_count": 19,
   "metadata": {},
   "outputs": [
    {
     "name": "stdout",
     "output_type": "stream",
     "text": [
      "CPU times: user 221 ms, sys: 22.9 ms, total: 244 ms\n",
      "Wall time: 253 ms\n"
     ]
    }
   ],
   "source": [
    "%%time\n",
    "%matplotlib inline\n",
    "from datetime import datetime, timedelta\n",
    "import time,os,boto3,re,json\n",
    "import numpy as np\n",
    "import pandas as pd\n",
    "from sagemaker import get_execution_role, session\n",
    "from sagemaker.session import production_variant\n",
    "sm = boto3.Session().client(\"sagemaker\")\n",
    "sm_session = session.Session(boto3.Session())\n",
    "sm_runtime = boto3.Session().client(\"sagemaker-runtime\")\n",
    "from sagemaker.predictor import json_deserializer\n",
    "from scipy.sparse import csr_matrix"
   ]
  },
  {
   "cell_type": "markdown",
   "metadata": {},
   "source": [
    "## Preparing sample test data for inference"
   ]
  },
  {
   "cell_type": "code",
   "execution_count": 6,
   "metadata": {},
   "outputs": [],
   "source": [
    "df_ratings = pd.read_csv('run-1607268992801-part-r-00000.csv')\n",
    "df_movies = pd.read_csv('run-1608674764528-part-r-00000.csv')"
   ]
  },
  {
   "cell_type": "code",
   "execution_count": 7,
   "metadata": {},
   "outputs": [],
   "source": [
    "df_ratings = df_ratings.drop(df_ratings[df_ratings.userid == 'userId'].index)\n",
    "df_movies = df_movies.drop(df_movies[df_movies.movieid == 'movieId'].index)\n",
    "df_ratings.userid = df_ratings.userid.astype(int)\n",
    "df_ratings.movieid = df_ratings.movieid.astype(int)\n",
    "df_ratings.rating = df_ratings.rating.astype(float)\n",
    "df_movies.movieid = df_movies.movieid.astype(int)"
   ]
  },
  {
   "cell_type": "code",
   "execution_count": 8,
   "metadata": {},
   "outputs": [],
   "source": [
    "df_ratings = df_ratings.drop('timestamp', axis=1)\n",
    "df_movies = df_movies.drop('genres', axis=1)"
   ]
  },
  {
   "cell_type": "code",
   "execution_count": 9,
   "metadata": {},
   "outputs": [],
   "source": [
    "df = pd.merge(df_ratings,df_movies, on='movieid')"
   ]
  },
  {
   "cell_type": "code",
   "execution_count": 11,
   "metadata": {},
   "outputs": [],
   "source": [
    "mtx = df.pivot_table(index='movieid', columns='userid', values='rating').fillna(0).astype('float32')"
   ]
  },
  {
   "cell_type": "code",
   "execution_count": 13,
   "metadata": {},
   "outputs": [],
   "source": [
    "\n",
    "X = csr_matrix(mtx.values).astype('float32')"
   ]
  },
  {
   "cell_type": "code",
   "execution_count": 23,
   "metadata": {},
   "outputs": [],
   "source": [
    "knn_abtesting = X[101:199]"
   ]
  },
  {
   "cell_type": "markdown",
   "metadata": {},
   "source": [
    "# Defining the models as variants"
   ]
  },
  {
   "cell_type": "code",
   "execution_count": 16,
   "metadata": {},
   "outputs": [],
   "source": [
    "model_name1='knn-HPO-210110-0945-005-f5e30bdb'\n",
    "model_name2='knn-HPO-210109-1107-004-443295fc'"
   ]
  },
  {
   "cell_type": "code",
   "execution_count": 17,
   "metadata": {},
   "outputs": [],
   "source": [
    "knnvar1 = production_variant(model_name=model_name1,\n",
    "                              instance_type=\"ml.m5.large\",\n",
    "                              initial_instance_count=1,\n",
    "                              variant_name='knn-variant1',\n",
    "                              initial_weight=0.3)\n",
    "\n",
    "knnvar2 = production_variant(model_name=model_name2,\n",
    "                              instance_type=\"ml.m5.large\",\n",
    "                              initial_instance_count=1,\n",
    "                              variant_name='knn-variant2',\n",
    "                              initial_weight=0.3)"
   ]
  },
  {
   "cell_type": "markdown",
   "metadata": {},
   "source": [
    "# Deploying and invoking endpoint using 2 production variants"
   ]
  },
  {
   "cell_type": "code",
   "execution_count": 20,
   "metadata": {},
   "outputs": [
    {
     "name": "stdout",
     "output_type": "stream",
     "text": [
      "---------------!"
     ]
    },
    {
     "data": {
      "text/plain": [
       "'knn-reg'"
      ]
     },
     "execution_count": 20,
     "metadata": {},
     "output_type": "execute_result"
    }
   ],
   "source": [
    "endpoint_name='knn-reg'\n",
    "sm_session.endpoint_from_production_variants(\n",
    "    name=endpoint_name,\n",
    "    production_variants=[knnvar1, knnvar2])"
   ]
  },
  {
   "cell_type": "markdown",
   "metadata": {},
   "source": [
    "# Creating inference data, outside of test data"
   ]
  },
  {
   "cell_type": "code",
   "execution_count": 21,
   "metadata": {},
   "outputs": [],
   "source": [
    "def fm_serializer(data):\n",
    "    js = {\"instances\": []}\n",
    "    for row in data:\n",
    "        js[\"instances\"].append({\"features\": row.tolist()})\n",
    "    return json.dumps(js).encode()"
   ]
  },
  {
   "cell_type": "markdown",
   "metadata": {},
   "source": [
    "# Invoking Endpoint with Production Variants"
   ]
  },
  {
   "cell_type": "code",
   "execution_count": 24,
   "metadata": {},
   "outputs": [
    {
     "name": "stdout",
     "output_type": "stream",
     "text": [
      "Invoked Variant is:  knn-variant1\n",
      "{'predictions': [{'predicted_label': 4018.6}]}\n",
      "Invoked Variant is:  knn-variant1\n",
      "{'predictions': [{'predicted_label': 3200.8}]}\n",
      "Invoked Variant is:  knn-variant1\n",
      "{'predictions': [{'predicted_label': 2867.3}]}\n",
      "Invoked Variant is:  knn-variant1\n",
      "{'predictions': [{'predicted_label': 2489.6}]}\n",
      "Invoked Variant is:  knn-variant2\n",
      "{'predictions': [{'predicted_label': 4137.333333333333}]}\n",
      "Invoked Variant is:  knn-variant1\n",
      "{'predictions': [{'predicted_label': 3315.0}]}\n",
      "Invoked Variant is:  knn-variant1\n",
      "{'predictions': [{'predicted_label': 3271.3}]}\n",
      "Invoked Variant is:  knn-variant1\n",
      "{'predictions': [{'predicted_label': 3727.4}]}\n",
      "Invoked Variant is:  knn-variant2\n",
      "{'predictions': [{'predicted_label': 2527.733333333333}]}\n",
      "Invoked Variant is:  knn-variant1\n",
      "{'predictions': [{'predicted_label': 3998.1}]}\n",
      "Invoked Variant is:  knn-variant2\n",
      "{'predictions': [{'predicted_label': 3198.8}]}\n",
      "Invoked Variant is:  knn-variant1\n",
      "{'predictions': [{'predicted_label': 2827.6}]}\n",
      "Invoked Variant is:  knn-variant2\n",
      "{'predictions': [{'predicted_label': 2975.2}]}\n",
      "Invoked Variant is:  knn-variant2\n",
      "{'predictions': [{'predicted_label': 3088.5333333333333}]}\n",
      "Invoked Variant is:  knn-variant2\n",
      "{'predictions': [{'predicted_label': 3214.9333333333334}]}\n",
      "Invoked Variant is:  knn-variant2\n",
      "{'predictions': [{'predicted_label': 3114.133333333333}]}\n",
      "Invoked Variant is:  knn-variant1\n",
      "{'predictions': [{'predicted_label': 4187.2}]}\n",
      "Invoked Variant is:  knn-variant1\n",
      "{'predictions': [{'predicted_label': 2885.5}]}\n",
      "Invoked Variant is:  knn-variant1\n",
      "{'predictions': [{'predicted_label': 3271.6}]}\n",
      "Invoked Variant is:  knn-variant2\n",
      "{'predictions': [{'predicted_label': 3414.3333333333335}]}\n",
      "Invoked Variant is:  knn-variant2\n",
      "{'predictions': [{'predicted_label': 2947.4}]}\n",
      "Invoked Variant is:  knn-variant1\n",
      "{'predictions': [{'predicted_label': 196.5}]}\n",
      "Invoked Variant is:  knn-variant2\n",
      "{'predictions': [{'predicted_label': 2323.4}]}\n",
      "Invoked Variant is:  knn-variant2\n",
      "{'predictions': [{'predicted_label': 3038.4666666666667}]}\n",
      "Invoked Variant is:  knn-variant2\n",
      "{'predictions': [{'predicted_label': 3573.9333333333334}]}\n",
      "Invoked Variant is:  knn-variant2\n",
      "{'predictions': [{'predicted_label': 2672.4666666666667}]}\n",
      "Invoked Variant is:  knn-variant1\n",
      "{'predictions': [{'predicted_label': 3238.1}]}\n",
      "Invoked Variant is:  knn-variant2\n",
      "{'predictions': [{'predicted_label': 4039.133333333333}]}\n",
      "Invoked Variant is:  knn-variant1\n",
      "{'predictions': [{'predicted_label': 4234.1}]}\n",
      "Invoked Variant is:  knn-variant2\n",
      "{'predictions': [{'predicted_label': 3307.4666666666667}]}\n",
      "Invoked Variant is:  knn-variant2\n",
      "{'predictions': [{'predicted_label': 2096.266666666667}]}\n",
      "Invoked Variant is:  knn-variant1\n",
      "{'predictions': [{'predicted_label': 3027.2}]}\n",
      "Invoked Variant is:  knn-variant1\n",
      "{'predictions': [{'predicted_label': 2346.1}]}\n",
      "Invoked Variant is:  knn-variant1\n",
      "{'predictions': [{'predicted_label': 2452.8}]}\n",
      "Invoked Variant is:  knn-variant1\n",
      "{'predictions': [{'predicted_label': 3971.7}]}\n",
      "Invoked Variant is:  knn-variant1\n",
      "{'predictions': [{'predicted_label': 3027.3}]}\n",
      "Invoked Variant is:  knn-variant2\n",
      "{'predictions': [{'predicted_label': 3366.266666666667}]}\n",
      "Invoked Variant is:  knn-variant1\n",
      "{'predictions': [{'predicted_label': 2296.1}]}\n",
      "Invoked Variant is:  knn-variant1\n",
      "{'predictions': [{'predicted_label': 4367.4}]}\n",
      "Invoked Variant is:  knn-variant2\n",
      "{'predictions': [{'predicted_label': 2684.733333333333}]}\n",
      "Invoked Variant is:  knn-variant1\n",
      "{'predictions': [{'predicted_label': 2547.4}]}\n",
      "Invoked Variant is:  knn-variant2\n",
      "{'predictions': [{'predicted_label': 2710.266666666667}]}\n",
      "Invoked Variant is:  knn-variant2\n",
      "{'predictions': [{'predicted_label': 2925.8}]}\n",
      "Invoked Variant is:  knn-variant1\n",
      "{'predictions': [{'predicted_label': 2865.8}]}\n",
      "Invoked Variant is:  knn-variant2\n",
      "{'predictions': [{'predicted_label': 2581.133333333333}]}\n",
      "Invoked Variant is:  knn-variant2\n",
      "{'predictions': [{'predicted_label': 2510.9333333333334}]}\n",
      "Invoked Variant is:  knn-variant1\n",
      "{'predictions': [{'predicted_label': 3967.8}]}\n",
      "Invoked Variant is:  knn-variant1\n",
      "{'predictions': [{'predicted_label': 3436.6}]}\n",
      "Invoked Variant is:  knn-variant2\n",
      "{'predictions': [{'predicted_label': 2637.3333333333335}]}\n",
      "Invoked Variant is:  knn-variant1\n",
      "{'predictions': [{'predicted_label': 1655.1}]}\n",
      "Invoked Variant is:  knn-variant1\n",
      "{'predictions': [{'predicted_label': 2275.8}]}\n",
      "Invoked Variant is:  knn-variant2\n",
      "{'predictions': [{'predicted_label': 2748.4666666666667}]}\n",
      "Invoked Variant is:  knn-variant2\n",
      "{'predictions': [{'predicted_label': 3793.8}]}\n",
      "Invoked Variant is:  knn-variant2\n",
      "{'predictions': [{'predicted_label': 2902.0666666666666}]}\n",
      "Invoked Variant is:  knn-variant1\n",
      "{'predictions': [{'predicted_label': 4784.6}]}\n",
      "Invoked Variant is:  knn-variant2\n",
      "{'predictions': [{'predicted_label': 2453.2}]}\n",
      "Invoked Variant is:  knn-variant1\n",
      "{'predictions': [{'predicted_label': 2598.3}]}\n",
      "Invoked Variant is:  knn-variant1\n",
      "{'predictions': [{'predicted_label': 3736.5}]}\n",
      "Invoked Variant is:  knn-variant1\n",
      "{'predictions': [{'predicted_label': 4130.3}]}\n",
      "Invoked Variant is:  knn-variant2\n",
      "{'predictions': [{'predicted_label': 2546.266666666667}]}\n",
      "Invoked Variant is:  knn-variant2\n",
      "{'predictions': [{'predicted_label': 3159.8}]}\n",
      "Invoked Variant is:  knn-variant1\n",
      "{'predictions': [{'predicted_label': 3930.6}]}\n",
      "Invoked Variant is:  knn-variant1\n",
      "{'predictions': [{'predicted_label': 3016.9}]}\n",
      "Invoked Variant is:  knn-variant2\n",
      "{'predictions': [{'predicted_label': 3343.133333333333}]}\n",
      "Invoked Variant is:  knn-variant1\n",
      "{'predictions': [{'predicted_label': 2352.4}]}\n",
      "Invoked Variant is:  knn-variant2\n",
      "{'predictions': [{'predicted_label': 2418.4666666666667}]}\n",
      "Invoked Variant is:  knn-variant2\n",
      "{'predictions': [{'predicted_label': 2065.0666666666666}]}\n",
      "Invoked Variant is:  knn-variant1\n",
      "{'predictions': [{'predicted_label': 3464.5}]}\n",
      "Invoked Variant is:  knn-variant2\n",
      "{'predictions': [{'predicted_label': 2546.266666666667}]}\n",
      "Invoked Variant is:  knn-variant2\n",
      "{'predictions': [{'predicted_label': 3437.866666666667}]}\n",
      "Invoked Variant is:  knn-variant2\n",
      "{'predictions': [{'predicted_label': 3089.9333333333334}]}\n",
      "Invoked Variant is:  knn-variant2\n",
      "{'predictions': [{'predicted_label': 2094.8}]}\n",
      "Invoked Variant is:  knn-variant2\n",
      "{'predictions': [{'predicted_label': 3864.3333333333335}]}\n",
      "Invoked Variant is:  knn-variant1\n",
      "{'predictions': [{'predicted_label': 3641.3}]}\n",
      "Invoked Variant is:  knn-variant2\n",
      "{'predictions': [{'predicted_label': 3353.9333333333334}]}\n",
      "Invoked Variant is:  knn-variant2\n",
      "{'predictions': [{'predicted_label': 2564.266666666667}]}\n",
      "Invoked Variant is:  knn-variant2\n",
      "{'predictions': [{'predicted_label': 3394.733333333333}]}\n",
      "Invoked Variant is:  knn-variant2\n",
      "{'predictions': [{'predicted_label': 3225.9333333333334}]}\n",
      "Invoked Variant is:  knn-variant1\n",
      "{'predictions': [{'predicted_label': 3387.5}]}\n",
      "Invoked Variant is:  knn-variant2\n",
      "{'predictions': [{'predicted_label': 3292.6}]}\n",
      "Invoked Variant is:  knn-variant1\n",
      "{'predictions': [{'predicted_label': 3623.1}]}\n",
      "Invoked Variant is:  knn-variant2\n",
      "{'predictions': [{'predicted_label': 4180.0}]}\n",
      "Invoked Variant is:  knn-variant2\n",
      "{'predictions': [{'predicted_label': 2838.6666666666665}]}\n",
      "Invoked Variant is:  knn-variant1\n",
      "{'predictions': [{'predicted_label': 2616.7}]}\n",
      "Invoked Variant is:  knn-variant1\n",
      "{'predictions': [{'predicted_label': 2269.1}]}\n",
      "Invoked Variant is:  knn-variant1\n",
      "{'predictions': [{'predicted_label': 2565.8}]}\n",
      "Invoked Variant is:  knn-variant1\n",
      "{'predictions': [{'predicted_label': 750.6}]}\n",
      "Invoked Variant is:  knn-variant1\n",
      "{'predictions': [{'predicted_label': 3200.8}]}\n",
      "Invoked Variant is:  knn-variant2\n",
      "{'predictions': [{'predicted_label': 3768.133333333333}]}\n",
      "Invoked Variant is:  knn-variant2\n",
      "{'predictions': [{'predicted_label': 3089.4666666666667}]}\n",
      "Invoked Variant is:  knn-variant2\n",
      "{'predictions': [{'predicted_label': 2932.133333333333}]}\n",
      "Invoked Variant is:  knn-variant2\n",
      "{'predictions': [{'predicted_label': 2801.3333333333335}]}\n",
      "Invoked Variant is:  knn-variant1\n",
      "{'predictions': [{'predicted_label': 2415.5}]}\n",
      "Invoked Variant is:  knn-variant1\n",
      "{'predictions': [{'predicted_label': 3129.3}]}\n",
      "Invoked Variant is:  knn-variant2\n",
      "{'predictions': [{'predicted_label': 3848.5333333333333}]}\n",
      "Invoked Variant is:  knn-variant1\n",
      "{'predictions': [{'predicted_label': 3491.1}]}\n",
      "Invoked Variant is:  knn-variant1\n",
      "{'predictions': [{'predicted_label': 2918.1}]}\n",
      "Invoked Variant is:  knn-variant1\n",
      "{'predictions': [{'predicted_label': 2886.7}]}\n"
     ]
    }
   ],
   "source": [
    "import json\n",
    "for i in knn_abtesting:\n",
    "    X1_arr = i.toarray()\n",
    "    payload = fm_serializer(X1_arr)\n",
    "    response = sm_runtime.invoke_endpoint(EndpointName=endpoint_name,\n",
    "                                     Body=payload)\n",
    "    predictions = json.loads(response[\"Body\"].read().decode(\"utf-8\"))\n",
    "    print(\"Invoked Variant is: \", response['InvokedProductionVariant'])\n",
    "    print(predictions)\n"
   ]
  },
  {
   "cell_type": "code",
   "execution_count": null,
   "metadata": {},
   "outputs": [],
   "source": []
  }
 ],
 "metadata": {
  "kernelspec": {
   "display_name": "Python 3",
   "language": "python",
   "name": "python3"
  },
  "language_info": {
   "codemirror_mode": {
    "name": "ipython",
    "version": 3
   },
   "file_extension": ".py",
   "mimetype": "text/x-python",
   "name": "python",
   "nbconvert_exporter": "python",
   "pygments_lexer": "ipython3",
   "version": "3.5.4"
  }
 },
 "nbformat": 4,
 "nbformat_minor": 4
}
