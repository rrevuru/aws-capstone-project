{
 "cells": [
  {
   "cell_type": "markdown",
   "metadata": {},
   "source": [
    "# Importing Libraries"
   ]
  },
  {
   "cell_type": "code",
   "execution_count": 117,
   "metadata": {},
   "outputs": [
    {
     "name": "stdout",
     "output_type": "stream",
     "text": [
      "CPU times: user 166 ms, sys: 37.8 ms, total: 204 ms\n",
      "Wall time: 219 ms\n"
     ]
    }
   ],
   "source": [
    "%%time\n",
    "%matplotlib inline\n",
    "from datetime import datetime, timedelta\n",
    "import time,os,boto3,re,json\n",
    "import pandas as pd\n",
    "import numpy as np\n",
    "from sagemaker import get_execution_role, session\n",
    "from sagemaker.session import production_variant\n",
    "sm_session = session.Session(boto3.Session())\n",
    "sm = boto3.Session().client(\"sagemaker\")\n",
    "sm_runtime = boto3.Session().client(\"sagemaker-runtime\")\n",
    "from sagemaker.predictor import json_serializer, json_deserializer"
   ]
  },
  {
   "cell_type": "markdown",
   "metadata": {},
   "source": [
    "## Preparing sample test data for inference"
   ]
  },
  {
   "cell_type": "code",
   "execution_count": 118,
   "metadata": {},
   "outputs": [],
   "source": [
    "df = pd.read_csv('run-1607268992801-part-r-00000.csv')"
   ]
  },
  {
   "cell_type": "code",
   "execution_count": 119,
   "metadata": {},
   "outputs": [],
   "source": [
    "df = df.drop(df[df.userid == 'userId'].index)\n",
    "df.userid = df.userid.astype(int)\n",
    "df.movieid = df.movieid.astype(int)\n",
    "df.rating = df.rating.astype(float)\n",
    "df = df.drop('timestamp', axis=1)\n",
    "df = df.set_index('userid')"
   ]
  },
  {
   "cell_type": "code",
   "execution_count": 120,
   "metadata": {},
   "outputs": [],
   "source": [
    "y = df['rating'].values.astype('float32')"
   ]
  },
  {
   "cell_type": "code",
   "execution_count": 121,
   "metadata": {},
   "outputs": [],
   "source": [
    "from sklearn.preprocessing import OneHotEncoder\n",
    "from sklearn.model_selection import train_test_split"
   ]
  },
  {
   "cell_type": "code",
   "execution_count": 122,
   "metadata": {},
   "outputs": [],
   "source": [
    "encoder = OneHotEncoder(handle_unknown='ignore',sparse=True)\n",
    "X = encoder.fit_transform(df).astype('float32')"
   ]
  },
  {
   "cell_type": "code",
   "execution_count": 123,
   "metadata": {},
   "outputs": [
    {
     "data": {
      "text/plain": [
       "(100836, 9734)"
      ]
     },
     "execution_count": 123,
     "metadata": {},
     "output_type": "execute_result"
    }
   ],
   "source": [
    "X.shape"
   ]
  },
  {
   "cell_type": "code",
   "execution_count": 131,
   "metadata": {},
   "outputs": [],
   "source": [
    "fm_abtesting = X[101:150]"
   ]
  },
  {
   "cell_type": "code",
   "execution_count": 125,
   "metadata": {},
   "outputs": [
    {
     "data": {
      "text/plain": [
       "(24, 9734)"
      ]
     },
     "execution_count": 125,
     "metadata": {},
     "output_type": "execute_result"
    }
   ],
   "source": [
    "fm_abtesting.shape"
   ]
  },
  {
   "cell_type": "markdown",
   "metadata": {},
   "source": [
    "# Defining the models as variants"
   ]
  },
  {
   "cell_type": "code",
   "execution_count": 126,
   "metadata": {},
   "outputs": [],
   "source": [
    "model_name1='FM-Regression-210106-1125-005-eee28570'\n",
    "model_name2='FM-Regression-201228-1111-004-db018d4a'"
   ]
  },
  {
   "cell_type": "code",
   "execution_count": 127,
   "metadata": {},
   "outputs": [],
   "source": [
    "fmvar1 = production_variant(model_name=model_name1,\n",
    "                              instance_type=\"ml.m5.large\",\n",
    "                              initial_instance_count=1,\n",
    "                              variant_name='fm-variant1',\n",
    "                              initial_weight=0.7)\n",
    "\n",
    "fmvar2 = production_variant(model_name=model_name2,\n",
    "                              instance_type=\"ml.m5.large\",\n",
    "                              initial_instance_count=1,\n",
    "                              variant_name='fm-variant2',\n",
    "                              initial_weight=0.3)"
   ]
  },
  {
   "cell_type": "markdown",
   "metadata": {},
   "source": [
    "# Deploying endpoint using 2 production variants"
   ]
  },
  {
   "cell_type": "code",
   "execution_count": 128,
   "metadata": {},
   "outputs": [
    {
     "name": "stdout",
     "output_type": "stream",
     "text": [
      "fm-reg\n",
      "-------------!"
     ]
    },
    {
     "data": {
      "text/plain": [
       "'fm-reg'"
      ]
     },
     "execution_count": 128,
     "metadata": {},
     "output_type": "execute_result"
    }
   ],
   "source": [
    "endpoint_name = \"fm-reg\"\n",
    "print(endpoint_name)\n",
    "sm_session.endpoint_from_production_variants(name=endpoint_name,\n",
    "                                            production_variants=[fmvar1, fmvar2])"
   ]
  },
  {
   "cell_type": "markdown",
   "metadata": {},
   "source": [
    "# Creating inference data, outside of test data"
   ]
  },
  {
   "cell_type": "code",
   "execution_count": 129,
   "metadata": {},
   "outputs": [],
   "source": [
    "def fm_serializer(data):\n",
    "    js = {\"instances\": []}\n",
    "    for row in data:\n",
    "        js[\"instances\"].append({\"features\": row.tolist()})\n",
    "    return json.dumps(js).encode()"
   ]
  },
  {
   "cell_type": "markdown",
   "metadata": {},
   "source": [
    "# Invoking Endpoint with Production Variants"
   ]
  },
  {
   "cell_type": "code",
   "execution_count": 132,
   "metadata": {},
   "outputs": [
    {
     "name": "stdout",
     "output_type": "stream",
     "text": [
      "Invoked Variant is:  fm-variant1\n",
      "{'predictions': [{'score': 2.0898966789245605}]}\n",
      "Invoked Variant is:  fm-variant2\n",
      "{'predictions': [{'score': 3.5485150814056396}]}\n",
      "Invoked Variant is:  fm-variant1\n",
      "{'predictions': [{'score': 2.201231002807617}]}\n",
      "Invoked Variant is:  fm-variant2\n",
      "{'predictions': [{'score': 1.5213165283203125}]}\n",
      "Invoked Variant is:  fm-variant1\n",
      "{'predictions': [{'score': 2.08899188041687}]}\n",
      "Invoked Variant is:  fm-variant1\n",
      "{'predictions': [{'score': 3.5181081295013428}]}\n",
      "Invoked Variant is:  fm-variant1\n",
      "{'predictions': [{'score': 3.558302164077759}]}\n",
      "Invoked Variant is:  fm-variant1\n",
      "{'predictions': [{'score': 0.984809160232544}]}\n",
      "Invoked Variant is:  fm-variant1\n",
      "{'predictions': [{'score': 1.9931790828704834}]}\n",
      "Invoked Variant is:  fm-variant2\n",
      "{'predictions': [{'score': 1.0359034538269043}]}\n",
      "Invoked Variant is:  fm-variant1\n",
      "{'predictions': [{'score': 2.975015163421631}]}\n",
      "Invoked Variant is:  fm-variant2\n",
      "{'predictions': [{'score': 4.413729667663574}]}\n",
      "Invoked Variant is:  fm-variant2\n",
      "{'predictions': [{'score': 3.5667500495910645}]}\n",
      "Invoked Variant is:  fm-variant1\n",
      "{'predictions': [{'score': 3.628037452697754}]}\n",
      "Invoked Variant is:  fm-variant1\n",
      "{'predictions': [{'score': 4.439786434173584}]}\n",
      "Invoked Variant is:  fm-variant1\n",
      "{'predictions': [{'score': 3.9978575706481934}]}\n",
      "Invoked Variant is:  fm-variant2\n",
      "{'predictions': [{'score': 4.494524955749512}]}\n",
      "Invoked Variant is:  fm-variant2\n",
      "{'predictions': [{'score': 1.1402325630187988}]}\n",
      "Invoked Variant is:  fm-variant2\n",
      "{'predictions': [{'score': 0.6932756900787354}]}\n",
      "Invoked Variant is:  fm-variant1\n",
      "{'predictions': [{'score': 1.1173949241638184}]}\n",
      "Invoked Variant is:  fm-variant1\n",
      "{'predictions': [{'score': 1.1661632061004639}]}\n",
      "Invoked Variant is:  fm-variant2\n",
      "{'predictions': [{'score': 4.266671180725098}]}\n",
      "Invoked Variant is:  fm-variant1\n",
      "{'predictions': [{'score': 2.6905343532562256}]}\n",
      "Invoked Variant is:  fm-variant2\n",
      "{'predictions': [{'score': 4.543942451477051}]}\n",
      "Invoked Variant is:  fm-variant1\n",
      "{'predictions': [{'score': 3.4872360229492188}]}\n",
      "Invoked Variant is:  fm-variant2\n",
      "{'predictions': [{'score': 0.5224621295928955}]}\n",
      "Invoked Variant is:  fm-variant1\n",
      "{'predictions': [{'score': 3.1796436309814453}]}\n",
      "Invoked Variant is:  fm-variant1\n",
      "{'predictions': [{'score': 4.0254693031311035}]}\n",
      "Invoked Variant is:  fm-variant1\n",
      "{'predictions': [{'score': 5.035739421844482}]}\n",
      "Invoked Variant is:  fm-variant2\n",
      "{'predictions': [{'score': 1.9169999361038208}]}\n",
      "Invoked Variant is:  fm-variant1\n",
      "{'predictions': [{'score': 4.019112586975098}]}\n",
      "Invoked Variant is:  fm-variant1\n",
      "{'predictions': [{'score': 4.017220497131348}]}\n",
      "Invoked Variant is:  fm-variant1\n",
      "{'predictions': [{'score': 3.0116658210754395}]}\n",
      "Invoked Variant is:  fm-variant2\n",
      "{'predictions': [{'score': 4.974769592285156}]}\n",
      "Invoked Variant is:  fm-variant1\n",
      "{'predictions': [{'score': 2.964782238006592}]}\n",
      "Invoked Variant is:  fm-variant1\n",
      "{'predictions': [{'score': 4.016955375671387}]}\n",
      "Invoked Variant is:  fm-variant1\n",
      "{'predictions': [{'score': 5.017812728881836}]}\n",
      "Invoked Variant is:  fm-variant1\n",
      "{'predictions': [{'score': 2.9693336486816406}]}\n",
      "Invoked Variant is:  fm-variant1\n",
      "{'predictions': [{'score': 2.979600429534912}]}\n",
      "Invoked Variant is:  fm-variant1\n",
      "{'predictions': [{'score': 4.017662048339844}]}\n",
      "Invoked Variant is:  fm-variant1\n",
      "{'predictions': [{'score': 1.9517338275909424}]}\n",
      "Invoked Variant is:  fm-variant1\n",
      "{'predictions': [{'score': 5.058131217956543}]}\n",
      "Invoked Variant is:  fm-variant2\n",
      "{'predictions': [{'score': 3.9771392345428467}]}\n",
      "Invoked Variant is:  fm-variant1\n",
      "{'predictions': [{'score': 2.979330539703369}]}\n",
      "Invoked Variant is:  fm-variant1\n",
      "{'predictions': [{'score': 4.0292067527771}]}\n",
      "Invoked Variant is:  fm-variant1\n",
      "{'predictions': [{'score': 2.985758066177368}]}\n",
      "Invoked Variant is:  fm-variant2\n",
      "{'predictions': [{'score': 3.042647123336792}]}\n",
      "Invoked Variant is:  fm-variant1\n",
      "{'predictions': [{'score': 3.0094358921051025}]}\n",
      "Invoked Variant is:  fm-variant1\n",
      "{'predictions': [{'score': 5.066553115844727}]}\n",
      "Invoked Variant is:  fm-variant2\n",
      "{'predictions': [{'score': 3.068372964859009}]}\n",
      "Invoked Variant is:  fm-variant1\n",
      "{'predictions': [{'score': 2.9809491634368896}]}\n",
      "Invoked Variant is:  fm-variant1\n",
      "{'predictions': [{'score': 4.01160192489624}]}\n",
      "Invoked Variant is:  fm-variant2\n",
      "{'predictions': [{'score': 3.0186052322387695}]}\n",
      "Invoked Variant is:  fm-variant1\n",
      "{'predictions': [{'score': 5.015535354614258}]}\n",
      "Invoked Variant is:  fm-variant1\n",
      "{'predictions': [{'score': 2.982356309890747}]}\n",
      "Invoked Variant is:  fm-variant1\n",
      "{'predictions': [{'score': 3.0000627040863037}]}\n",
      "Invoked Variant is:  fm-variant2\n",
      "{'predictions': [{'score': 4.031350135803223}]}\n",
      "Invoked Variant is:  fm-variant1\n",
      "{'predictions': [{'score': 2.9769444465637207}]}\n",
      "Invoked Variant is:  fm-variant1\n",
      "{'predictions': [{'score': 3.5008275508880615}]}\n",
      "Invoked Variant is:  fm-variant1\n",
      "{'predictions': [{'score': 1.989367127418518}]}\n",
      "Invoked Variant is:  fm-variant1\n",
      "{'predictions': [{'score': 5.014609336853027}]}\n",
      "Invoked Variant is:  fm-variant1\n",
      "{'predictions': [{'score': 3.0228209495544434}]}\n",
      "Invoked Variant is:  fm-variant1\n",
      "{'predictions': [{'score': 3.5314090251922607}]}\n",
      "Invoked Variant is:  fm-variant2\n",
      "{'predictions': [{'score': 3.0341145992279053}]}\n",
      "Invoked Variant is:  fm-variant1\n",
      "{'predictions': [{'score': 3.505563259124756}]}\n",
      "Invoked Variant is:  fm-variant2\n",
      "{'predictions': [{'score': 3.0161232948303223}]}\n",
      "Invoked Variant is:  fm-variant1\n",
      "{'predictions': [{'score': 2.4551777839660645}]}\n",
      "Invoked Variant is:  fm-variant1\n",
      "{'predictions': [{'score': 3.5004425048828125}]}\n",
      "Invoked Variant is:  fm-variant1\n",
      "{'predictions': [{'score': 2.406805992126465}]}\n",
      "Invoked Variant is:  fm-variant1\n",
      "{'predictions': [{'score': 5.042024612426758}]}\n",
      "Invoked Variant is:  fm-variant1\n",
      "{'predictions': [{'score': 4.4018659591674805}]}\n",
      "Invoked Variant is:  fm-variant1\n",
      "{'predictions': [{'score': 3.000389575958252}]}\n",
      "Invoked Variant is:  fm-variant2\n",
      "{'predictions': [{'score': 4.546415328979492}]}\n",
      "Invoked Variant is:  fm-variant2\n",
      "{'predictions': [{'score': 3.0287835597991943}]}\n",
      "Invoked Variant is:  fm-variant1\n",
      "{'predictions': [{'score': 3.5069122314453125}]}\n",
      "Invoked Variant is:  fm-variant2\n",
      "{'predictions': [{'score': 1.9748494625091553}]}\n",
      "Invoked Variant is:  fm-variant1\n",
      "{'predictions': [{'score': 1.971879482269287}]}\n",
      "Invoked Variant is:  fm-variant2\n",
      "{'predictions': [{'score': 3.566701650619507}]}\n",
      "Invoked Variant is:  fm-variant2\n",
      "{'predictions': [{'score': 3.0187289714813232}]}\n",
      "Invoked Variant is:  fm-variant2\n",
      "{'predictions': [{'score': 4.071404457092285}]}\n",
      "Invoked Variant is:  fm-variant2\n",
      "{'predictions': [{'score': 4.953799247741699}]}\n",
      "Invoked Variant is:  fm-variant1\n",
      "{'predictions': [{'score': 5.015183448791504}]}\n",
      "Invoked Variant is:  fm-variant2\n",
      "{'predictions': [{'score': 2.995043992996216}]}\n",
      "Invoked Variant is:  fm-variant1\n",
      "{'predictions': [{'score': 4.027480602264404}]}\n",
      "Invoked Variant is:  fm-variant2\n",
      "{'predictions': [{'score': 4.952319145202637}]}\n",
      "Invoked Variant is:  fm-variant2\n",
      "{'predictions': [{'score': 0.9376389384269714}]}\n",
      "Invoked Variant is:  fm-variant1\n",
      "{'predictions': [{'score': 3.0104739665985107}]}\n",
      "Invoked Variant is:  fm-variant2\n",
      "{'predictions': [{'score': 4.053638458251953}]}\n",
      "Invoked Variant is:  fm-variant2\n",
      "{'predictions': [{'score': 3.007974147796631}]}\n",
      "Invoked Variant is:  fm-variant1\n",
      "{'predictions': [{'score': 4.017339706420898}]}\n",
      "Invoked Variant is:  fm-variant2\n",
      "{'predictions': [{'score': 1.9205050468444824}]}\n",
      "Invoked Variant is:  fm-variant2\n",
      "{'predictions': [{'score': 4.973592758178711}]}\n",
      "Invoked Variant is:  fm-variant1\n",
      "{'predictions': [{'score': 2.993974208831787}]}\n",
      "Invoked Variant is:  fm-variant1\n",
      "{'predictions': [{'score': 2.9824631214141846}]}\n",
      "Invoked Variant is:  fm-variant2\n",
      "{'predictions': [{'score': 3.0070550441741943}]}\n",
      "Invoked Variant is:  fm-variant1\n",
      "{'predictions': [{'score': 5.020065784454346}]}\n",
      "Invoked Variant is:  fm-variant1\n",
      "{'predictions': [{'score': 3.000988245010376}]}\n",
      "Invoked Variant is:  fm-variant1\n",
      "{'predictions': [{'score': 4.008907794952393}]}\n",
      "Invoked Variant is:  fm-variant1\n",
      "{'predictions': [{'score': 3.0021772384643555}]}\n",
      "Invoked Variant is:  fm-variant1\n",
      "{'predictions': [{'score': 3.0711514949798584}]}\n"
     ]
    }
   ],
   "source": [
    "import json\n",
    "c = 0\n",
    "for i in abtesting:\n",
    "    predictions=[]\n",
    "    X1_arr = i.toarray()\n",
    "    payload = fm_serializer(X1_arr)\n",
    "    response = sm_runtime.invoke_endpoint(EndpointName=endpoint_name,\n",
    "                                     Body=payload)\n",
    "    predictions = json.loads(response[\"Body\"].read().decode(\"utf-8\"))\n",
    "    print(\"Invoked Variant is: \", response['InvokedProductionVariant'])\n",
    "    print(predictions)\n",
    "    "
   ]
  },
  {
   "cell_type": "code",
   "execution_count": null,
   "metadata": {},
   "outputs": [],
   "source": []
  }
 ],
 "metadata": {
  "kernelspec": {
   "display_name": "Python 3",
   "language": "python",
   "name": "python3"
  },
  "language_info": {
   "codemirror_mode": {
    "name": "ipython",
    "version": 3
   },
   "file_extension": ".py",
   "mimetype": "text/x-python",
   "name": "python",
   "nbconvert_exporter": "python",
   "pygments_lexer": "ipython3",
   "version": "3.5.4"
  }
 },
 "nbformat": 4,
 "nbformat_minor": 4
}
