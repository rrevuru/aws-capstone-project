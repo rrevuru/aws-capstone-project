{
 "cells": [
  {
   "cell_type": "markdown",
   "metadata": {},
   "source": [
    "## Importing Libraries"
   ]
  },
  {
   "cell_type": "code",
   "execution_count": 42,
   "metadata": {},
   "outputs": [],
   "source": [
    "import pandas as pd\n",
    "import numpy as np\n",
    "import sagemaker\n",
    "import boto3,io,json\n",
    "from sklearn.model_selection import train_test_split\n",
    "import sagemaker.amazon.common as smac\n",
    "from sagemaker import get_execution_role\n",
    "from sagemaker.predictor import json_deserializer\n",
    "from scipy.sparse import lil_matrix\n",
    "from scipy.sparse import csr_matrix\n",
    "from sagemaker.amazon.amazon_estimator import get_image_uri\n",
    "sage_client = boto3.Session().client('sagemaker')\n",
    "from sagemaker.tuner import IntegerParameter, CategoricalParameter, ContinuousParameter, HyperparameterTuner"
   ]
  },
  {
   "cell_type": "markdown",
   "metadata": {},
   "source": [
    "## Importing datasets from S3 Buckets & read into pandas dataset"
   ]
  },
  {
   "cell_type": "code",
   "execution_count": 43,
   "metadata": {},
   "outputs": [],
   "source": [
    "df_ratings = pd.read_csv('run-1607268992801-part-r-00000.csv')\n",
    "df_movies = pd.read_csv('run-1608674764528-part-r-00000.csv')"
   ]
  },
  {
   "cell_type": "code",
   "execution_count": 47,
   "metadata": {},
   "outputs": [],
   "source": [
    "df_ratings = df_ratings.drop(df_ratings[df_ratings.userid == 'userId'].index)"
   ]
  },
  {
   "cell_type": "code",
   "execution_count": 68,
   "metadata": {},
   "outputs": [],
   "source": [
    "df_ratings.userid = df_ratings.userid.astype(int)\n",
    "df_ratings.movieid = df_ratings.movieid.astype(int)\n",
    "df_ratings.rating = df_ratings.rating.astype(float)\n",
    "df_movies.movieid = df_movies.movieid.astype(int)"
   ]
  },
  {
   "cell_type": "code",
   "execution_count": 49,
   "metadata": {},
   "outputs": [],
   "source": [
    "df_movies = df_movies.drop(df_movies[df_movies.movieid == 'movieId'].index)"
   ]
  },
  {
   "cell_type": "code",
   "execution_count": 50,
   "metadata": {},
   "outputs": [
    {
     "name": "stderr",
     "output_type": "stream",
     "text": [
      "/Users/rrevuru/.pyenv/versions/3.5.4/lib/python3.5/site-packages/ipykernel_launcher.py:1: UserWarning: Pandas doesn't allow columns to be created via a new attribute name - see https://pandas.pydata.org/pandas-docs/stable/indexing.html#attribute-access\n",
      "  \"\"\"Entry point for launching an IPython kernel.\n"
     ]
    }
   ],
   "source": [
    "df_movies.movied = df_movies.movieid.astype(int)\n",
    "df_movies.title = df_movies.title.astype(str)"
   ]
  },
  {
   "cell_type": "markdown",
   "metadata": {},
   "source": [
    "## Dropping the columns like timestamp and genres"
   ]
  },
  {
   "cell_type": "code",
   "execution_count": 51,
   "metadata": {},
   "outputs": [],
   "source": [
    "df_ratings = df_ratings.drop('timestamp', axis=1)\n",
    "df_movies = df_movies.drop('genres', axis=1)"
   ]
  },
  {
   "cell_type": "markdown",
   "metadata": {},
   "source": [
    "## Creating  pivot table of users and movies"
   ]
  },
  {
   "cell_type": "code",
   "execution_count": 52,
   "metadata": {},
   "outputs": [],
   "source": [
    "movies_users = df_ratings.pivot(index='movieid', columns='userid', values='rating').fillna(0)"
   ]
  },
  {
   "cell_type": "code",
   "execution_count": 69,
   "metadata": {},
   "outputs": [],
   "source": [
    "nb_movies = df_movies['movieid'].max()"
   ]
  },
  {
   "cell_type": "markdown",
   "metadata": {},
   "source": [
    "## Create a sparse matrix for pivot table"
   ]
  },
  {
   "cell_type": "code",
   "execution_count": 55,
   "metadata": {},
   "outputs": [],
   "source": [
    "mat_movies_users=csr_matrix(movies_users.values).astype('float32')"
   ]
  },
  {
   "cell_type": "markdown",
   "metadata": {},
   "source": [
    "## Create data repositories for input/output and model data"
   ]
  },
  {
   "cell_type": "code",
   "execution_count": 57,
   "metadata": {},
   "outputs": [],
   "source": [
    "#Change this value to your own bucket name\n",
    "bucket = 'movies-mlready-bucket'\n",
    "prefix = 'fm-knn-classifier'\n",
    "\n",
    "train_key      = 'train.protobuf'\n",
    "train_prefix   = '{}/{}'.format(prefix, 'train')\n",
    "\n",
    "test_key       = 'test.protobuf'\n",
    "test_prefix    = '{}/{}'.format(prefix, 'test')\n",
    "\n",
    "\n",
    "output_prefix  = 's3://{}/{}/output'.format(bucket, prefix)"
   ]
  },
  {
   "cell_type": "code",
   "execution_count": 79,
   "metadata": {},
   "outputs": [],
   "source": [
    "nb_movies = df_movies['movieid'].max()\n",
    "knn_train_label = np.arange(1,9725)"
   ]
  },
  {
   "cell_type": "markdown",
   "metadata": {},
   "source": [
    "## Converting train data into record-io format"
   ]
  },
  {
   "cell_type": "code",
   "execution_count": 80,
   "metadata": {},
   "outputs": [
    {
     "name": "stdout",
     "output_type": "stream",
     "text": [
      "Training data S3 path:  s3://movies-mlready-bucket/fm-knn-classifier/train/train.protobuf\n",
      "FM model output S3 path: s3://movies-mlready-bucket/fm-knn-classifier/output\n"
     ]
    }
   ],
   "source": [
    "def writeDatasetToProtobuf(X, bucket, prefix, key, d_type, Y=None):\n",
    "    buf = io.BytesIO()\n",
    "    if d_type == \"sparse\":\n",
    "        smac.write_spmatrix_to_sparse_tensor(buf, X, labels=Y)\n",
    "    else:\n",
    "        smac.write_numpy_to_dense_tensor(buf, X, labels=Y)\n",
    "        \n",
    "    buf.seek(0)\n",
    "    obj = '{}/{}'.format(prefix, key)\n",
    "    boto3.resource('s3').Bucket(bucket).Object(obj).upload_fileobj(buf)\n",
    "    return 's3://{}/{}'.format(bucket,obj)\n",
    "    \n",
    "fm_knn_train_data_path = writeDatasetToProtobuf(mat_movies_users, bucket, train_prefix, train_key, \"sparse\", knn_train_label)\n",
    "  \n",
    "print (\"Training data S3 path: \",fm_knn_train_data_path)\n",
    "print (\"FM model output S3 path: {}\".format(output_prefix))"
   ]
  },
  {
   "cell_type": "code",
   "execution_count": 85,
   "metadata": {},
   "outputs": [],
   "source": [
    "nb_recommendations = 10\n",
    "knn_prefix = 'knn'\n",
    "knn_output_prefix  = 's3://{}/{}/output'.format(bucket, knn_prefix)"
   ]
  },
  {
   "cell_type": "markdown",
   "metadata": {},
   "source": [
    "## Creating an Esitmator for K-NearestNeighbor"
   ]
  },
  {
   "cell_type": "code",
   "execution_count": 82,
   "metadata": {},
   "outputs": [],
   "source": [
    "instance_type='ml.m5.large'\n",
    "role = 'arn:aws:iam::719009365707:role/role_sagemaker'"
   ]
  },
  {
   "cell_type": "code",
   "execution_count": 86,
   "metadata": {},
   "outputs": [],
   "source": [
    "knn = sagemaker.estimator.Estimator(get_image_uri(boto3.Session().region_name, \"knn\"),\n",
    "    role,\n",
    "    train_instance_count=1,\n",
    "    train_instance_type=instance_type,\n",
    "    output_path=knn_output_prefix,\n",
    "    sagemaker_session=sagemaker.Session())"
   ]
  },
  {
   "cell_type": "markdown",
   "metadata": {},
   "source": [
    "## Setting Hyperparameters"
   ]
  },
  {
   "cell_type": "code",
   "execution_count": 93,
   "metadata": {},
   "outputs": [],
   "source": [
    "knn.set_hyperparameters(feature_dim='610', \n",
    "                        k=nb_recommendations, \n",
    "                        index_metric=\"INNER_PRODUCT\", \n",
    "                        predictor_type='classifier', \n",
    "                        sample_size=200000)"
   ]
  },
  {
   "cell_type": "markdown",
   "metadata": {},
   "source": [
    "## Fit the K-NN estimator"
   ]
  },
  {
   "cell_type": "code",
   "execution_count": 94,
   "metadata": {},
   "outputs": [
    {
     "name": "stdout",
     "output_type": "stream",
     "text": [
      "2020-12-23 00:01:22 Starting - Starting the training job...\n",
      "2020-12-23 00:01:25 Starting - Launching requested ML instances......\n",
      "2020-12-23 00:02:38 Starting - Preparing the instances for training...\n",
      "2020-12-23 00:03:23 Downloading - Downloading input data...\n",
      "2020-12-23 00:03:34 Training - Downloading the training image....\u001b[34mDocker entrypoint called with argument(s): train\u001b[0m\n",
      "\u001b[34mRunning default environment configuration script\u001b[0m\n",
      "\u001b[34m[12/23/2020 00:04:30 INFO 139694968457024] Reading default configuration from /opt/amazon/lib/python2.7/site-packages/algorithm/resources/default-conf.json: {u'index_metric': u'L2', u'_tuning_objective_metric': u'', u'_num_gpus': u'auto', u'_log_level': u'info', u'feature_dim': u'auto', u'faiss_index_ivf_nlists': u'auto', u'epochs': u'1', u'index_type': u'faiss.Flat', u'_faiss_index_nprobe': u'5', u'_kvstore': u'dist_async', u'_num_kv_servers': u'1', u'mini_batch_size': u'5000'}\u001b[0m\n",
      "\u001b[34m[12/23/2020 00:04:30 INFO 139694968457024] Merging with provided configuration from /opt/ml/input/config/hyperparameters.json: {u'sample_size': u'200000', u'feature_dim': u'610', u'index_metric': u'INNER_PRODUCT', u'predictor_type': u'classifier', u'k': u'10'}\u001b[0m\n",
      "\u001b[34m[12/23/2020 00:04:30 INFO 139694968457024] Final configuration: {u'index_metric': u'INNER_PRODUCT', u'predictor_type': u'classifier', u'_tuning_objective_metric': u'', u'_num_gpus': u'auto', u'_log_level': u'info', u'feature_dim': u'610', u'faiss_index_ivf_nlists': u'auto', u'sample_size': u'200000', u'epochs': u'1', u'index_type': u'faiss.Flat', u'_faiss_index_nprobe': u'5', u'_kvstore': u'dist_async', u'_num_kv_servers': u'1', u'mini_batch_size': u'5000', u'k': u'10'}\u001b[0m\n",
      "\u001b[34m[12/23/2020 00:04:30 WARNING 139694968457024] Loggers have already been setup.\u001b[0m\n",
      "\u001b[34m[12/23/2020 00:04:30 INFO 139694968457024] Launching parameter server for role scheduler\u001b[0m\n",
      "\u001b[34m[12/23/2020 00:04:30 INFO 139694968457024] {'ECS_CONTAINER_METADATA_URI': 'http://169.254.170.2/v3/3f32334f-9fbd-4751-8d60-62ddf33dd085', 'ECS_CONTAINER_METADATA_URI_V4': 'http://169.254.170.2/v4/3f32334f-9fbd-4751-8d60-62ddf33dd085', 'PROTOCOL_BUFFERS_PYTHON_IMPLEMENTATION_VERSION': '2', 'PATH': '/opt/amazon/bin:/usr/local/nvidia/bin:/usr/local/sbin:/usr/local/bin:/usr/sbin:/usr/bin:/sbin:/bin:/opt/amazon/bin:/opt/amazon/bin', 'SAGEMAKER_HTTP_PORT': '8080', 'HOME': '/root', 'PYTHONUNBUFFERED': 'TRUE', 'CANONICAL_ENVROOT': '/opt/amazon', 'LD_LIBRARY_PATH': '/opt/amazon/lib/python2.7/site-packages/cv2/../../../../lib:/usr/local/nvidia/lib64:/opt/amazon/lib', 'LANG': 'en_US.utf8', 'DMLC_INTERFACE': 'eth0', 'SHLVL': '1', 'AWS_REGION': 'us-east-1', 'SAGEMAKER_METRICS_DIRECTORY': '/opt/ml/output/metrics/sagemaker', 'NVIDIA_VISIBLE_DEVICES': 'void', 'TRAINING_JOB_NAME': 'knn-2020-12-23-00-02-11-145', 'PROTOCOL_BUFFERS_PYTHON_IMPLEMENTATION': 'cpp', 'ENVROOT': '/opt/amazon', 'SAGEMAKER_DATA_PATH': '/opt/ml', 'NVIDIA_DRIVER_CAPABILITIES': 'compute,utility', 'NVIDIA_REQUIRE_CUDA': 'cuda>=9.0', 'OMP_NUM_THREADS': '1', 'HOSTNAME': 'ip-10-0-81-171.ec2.internal', 'AWS_CONTAINER_CREDENTIALS_RELATIVE_URI': '/v2/credentials/07c657fd-1e0d-4734-930f-d87bbbd2ab20', 'PWD': '/', 'TRAINING_JOB_ARN': 'arn:aws:sagemaker:us-east-1:719009365707:training-job/knn-2020-12-23-00-02-11-145', 'AWS_EXECUTION_ENV': 'AWS_ECS_EC2'}\u001b[0m\n",
      "\u001b[34m[12/23/2020 00:04:30 INFO 139694968457024] envs={'ECS_CONTAINER_METADATA_URI': 'http://169.254.170.2/v3/3f32334f-9fbd-4751-8d60-62ddf33dd085', 'ECS_CONTAINER_METADATA_URI_V4': 'http://169.254.170.2/v4/3f32334f-9fbd-4751-8d60-62ddf33dd085', 'PROTOCOL_BUFFERS_PYTHON_IMPLEMENTATION_VERSION': '2', 'DMLC_NUM_WORKER': '1', 'DMLC_PS_ROOT_PORT': '9000', 'PATH': '/opt/amazon/bin:/usr/local/nvidia/bin:/usr/local/sbin:/usr/local/bin:/usr/sbin:/usr/bin:/sbin:/bin:/opt/amazon/bin:/opt/amazon/bin', 'SAGEMAKER_HTTP_PORT': '8080', 'HOME': '/root', 'PYTHONUNBUFFERED': 'TRUE', 'CANONICAL_ENVROOT': '/opt/amazon', 'LD_LIBRARY_PATH': '/opt/amazon/lib/python2.7/site-packages/cv2/../../../../lib:/usr/local/nvidia/lib64:/opt/amazon/lib', 'LANG': 'en_US.utf8', 'DMLC_INTERFACE': 'eth0', 'SHLVL': '1', 'DMLC_PS_ROOT_URI': '10.0.81.171', 'AWS_REGION': 'us-east-1', 'SAGEMAKER_METRICS_DIRECTORY': '/opt/ml/output/metrics/sagemaker', 'NVIDIA_VISIBLE_DEVICES': 'void', 'TRAINING_JOB_NAME': 'knn-2020-12-23-00-02-11-145', 'PROTOCOL_BUFFERS_PYTHON_IMPLEMENTATION': 'cpp', 'ENVROOT': '/opt/amazon', 'SAGEMAKER_DATA_PATH': '/opt/ml', 'NVIDIA_DRIVER_CAPABILITIES': 'compute,utility', 'NVIDIA_REQUIRE_CUDA': 'cuda>=9.0', 'OMP_NUM_THREADS': '1', 'HOSTNAME': 'ip-10-0-81-171.ec2.internal', 'AWS_CONTAINER_CREDENTIALS_RELATIVE_URI': '/v2/credentials/07c657fd-1e0d-4734-930f-d87bbbd2ab20', 'DMLC_ROLE': 'scheduler', 'PWD': '/', 'DMLC_NUM_SERVER': '1', 'TRAINING_JOB_ARN': 'arn:aws:sagemaker:us-east-1:719009365707:training-job/knn-2020-12-23-00-02-11-145', 'AWS_EXECUTION_ENV': 'AWS_ECS_EC2'}\u001b[0m\n",
      "\u001b[34m[12/23/2020 00:04:30 INFO 139694968457024] Launching parameter server for role server\u001b[0m\n",
      "\u001b[34m[12/23/2020 00:04:30 INFO 139694968457024] {'ECS_CONTAINER_METADATA_URI': 'http://169.254.170.2/v3/3f32334f-9fbd-4751-8d60-62ddf33dd085', 'ECS_CONTAINER_METADATA_URI_V4': 'http://169.254.170.2/v4/3f32334f-9fbd-4751-8d60-62ddf33dd085', 'PROTOCOL_BUFFERS_PYTHON_IMPLEMENTATION_VERSION': '2', 'PATH': '/opt/amazon/bin:/usr/local/nvidia/bin:/usr/local/sbin:/usr/local/bin:/usr/sbin:/usr/bin:/sbin:/bin:/opt/amazon/bin:/opt/amazon/bin', 'SAGEMAKER_HTTP_PORT': '8080', 'HOME': '/root', 'PYTHONUNBUFFERED': 'TRUE', 'CANONICAL_ENVROOT': '/opt/amazon', 'LD_LIBRARY_PATH': '/opt/amazon/lib/python2.7/site-packages/cv2/../../../../lib:/usr/local/nvidia/lib64:/opt/amazon/lib', 'LANG': 'en_US.utf8', 'DMLC_INTERFACE': 'eth0', 'SHLVL': '1', 'AWS_REGION': 'us-east-1', 'SAGEMAKER_METRICS_DIRECTORY': '/opt/ml/output/metrics/sagemaker', 'NVIDIA_VISIBLE_DEVICES': 'void', 'TRAINING_JOB_NAME': 'knn-2020-12-23-00-02-11-145', 'PROTOCOL_BUFFERS_PYTHON_IMPLEMENTATION': 'cpp', 'ENVROOT': '/opt/amazon', 'SAGEMAKER_DATA_PATH': '/opt/ml', 'NVIDIA_DRIVER_CAPABILITIES': 'compute,utility', 'NVIDIA_REQUIRE_CUDA': 'cuda>=9.0', 'OMP_NUM_THREADS': '1', 'HOSTNAME': 'ip-10-0-81-171.ec2.internal', 'AWS_CONTAINER_CREDENTIALS_RELATIVE_URI': '/v2/credentials/07c657fd-1e0d-4734-930f-d87bbbd2ab20', 'PWD': '/', 'TRAINING_JOB_ARN': 'arn:aws:sagemaker:us-east-1:719009365707:training-job/knn-2020-12-23-00-02-11-145', 'AWS_EXECUTION_ENV': 'AWS_ECS_EC2'}\u001b[0m\n",
      "\u001b[34m[12/23/2020 00:04:30 INFO 139694968457024] envs={'ECS_CONTAINER_METADATA_URI': 'http://169.254.170.2/v3/3f32334f-9fbd-4751-8d60-62ddf33dd085', 'ECS_CONTAINER_METADATA_URI_V4': 'http://169.254.170.2/v4/3f32334f-9fbd-4751-8d60-62ddf33dd085', 'PROTOCOL_BUFFERS_PYTHON_IMPLEMENTATION_VERSION': '2', 'DMLC_NUM_WORKER': '1', 'DMLC_PS_ROOT_PORT': '9000', 'PATH': '/opt/amazon/bin:/usr/local/nvidia/bin:/usr/local/sbin:/usr/local/bin:/usr/sbin:/usr/bin:/sbin:/bin:/opt/amazon/bin:/opt/amazon/bin', 'SAGEMAKER_HTTP_PORT': '8080', 'HOME': '/root', 'PYTHONUNBUFFERED': 'TRUE', 'CANONICAL_ENVROOT': '/opt/amazon', 'LD_LIBRARY_PATH': '/opt/amazon/lib/python2.7/site-packages/cv2/../../../../lib:/usr/local/nvidia/lib64:/opt/amazon/lib', 'LANG': 'en_US.utf8', 'DMLC_INTERFACE': 'eth0', 'SHLVL': '1', 'DMLC_PS_ROOT_URI': '10.0.81.171', 'AWS_REGION': 'us-east-1', 'SAGEMAKER_METRICS_DIRECTORY': '/opt/ml/output/metrics/sagemaker', 'NVIDIA_VISIBLE_DEVICES': 'void', 'TRAINING_JOB_NAME': 'knn-2020-12-23-00-02-11-145', 'PROTOCOL_BUFFERS_PYTHON_IMPLEMENTATION': 'cpp', 'ENVROOT': '/opt/amazon', 'SAGEMAKER_DATA_PATH': '/opt/ml', 'NVIDIA_DRIVER_CAPABILITIES': 'compute,utility', 'NVIDIA_REQUIRE_CUDA': 'cuda>=9.0', 'OMP_NUM_THREADS': '1', 'HOSTNAME': 'ip-10-0-81-171.ec2.internal', 'AWS_CONTAINER_CREDENTIALS_RELATIVE_URI': '/v2/credentials/07c657fd-1e0d-4734-930f-d87bbbd2ab20', 'DMLC_ROLE': 'server', 'PWD': '/', 'DMLC_NUM_SERVER': '1', 'TRAINING_JOB_ARN': 'arn:aws:sagemaker:us-east-1:719009365707:training-job/knn-2020-12-23-00-02-11-145', 'AWS_EXECUTION_ENV': 'AWS_ECS_EC2'}\u001b[0m\n",
      "\u001b[34m[12/23/2020 00:04:30 INFO 139694968457024] Environment: {'ECS_CONTAINER_METADATA_URI': 'http://169.254.170.2/v3/3f32334f-9fbd-4751-8d60-62ddf33dd085', 'ECS_CONTAINER_METADATA_URI_V4': 'http://169.254.170.2/v4/3f32334f-9fbd-4751-8d60-62ddf33dd085', 'PROTOCOL_BUFFERS_PYTHON_IMPLEMENTATION_VERSION': '2', 'DMLC_PS_ROOT_PORT': '9000', 'DMLC_NUM_WORKER': '1', 'SAGEMAKER_HTTP_PORT': '8080', 'PATH': '/opt/amazon/bin:/usr/local/nvidia/bin:/usr/local/sbin:/usr/local/bin:/usr/sbin:/usr/bin:/sbin:/bin:/opt/amazon/bin:/opt/amazon/bin', 'PYTHONUNBUFFERED': 'TRUE', 'CANONICAL_ENVROOT': '/opt/amazon', 'LD_LIBRARY_PATH': '/opt/amazon/lib/python2.7/site-packages/cv2/../../../../lib:/usr/local/nvidia/lib64:/opt/amazon/lib', 'LANG': 'en_US.utf8', 'DMLC_INTERFACE': 'eth0', 'SHLVL': '1', 'DMLC_PS_ROOT_URI': '10.0.81.171', 'AWS_REGION': 'us-east-1', 'SAGEMAKER_METRICS_DIRECTORY': '/opt/ml/output/metrics/sagemaker', 'NVIDIA_VISIBLE_DEVICES': 'void', 'TRAINING_JOB_NAME': 'knn-2020-12-23-00-02-11-145', 'HOME': '/root', 'PROTOCOL_BUFFERS_PYTHON_IMPLEMENTATION': 'cpp', 'ENVROOT': '/opt/amazon', 'SAGEMAKER_DATA_PATH': '/opt/ml', 'NVIDIA_DRIVER_CAPABILITIES': 'compute,utility', 'NVIDIA_REQUIRE_CUDA': 'cuda>=9.0', 'OMP_NUM_THREADS': '1', 'HOSTNAME': 'ip-10-0-81-171.ec2.internal', 'AWS_CONTAINER_CREDENTIALS_RELATIVE_URI': '/v2/credentials/07c657fd-1e0d-4734-930f-d87bbbd2ab20', 'DMLC_ROLE': 'worker', 'PWD': '/', 'DMLC_NUM_SERVER': '1', 'TRAINING_JOB_ARN': 'arn:aws:sagemaker:us-east-1:719009365707:training-job/knn-2020-12-23-00-02-11-145', 'AWS_EXECUTION_ENV': 'AWS_ECS_EC2'}\u001b[0m\n",
      "\u001b[34mProcess 58 is a shell:scheduler.\u001b[0m\n",
      "\u001b[34mProcess 69 is a shell:server.\u001b[0m\n",
      "\u001b[34mProcess 1 is a worker.\u001b[0m\n",
      "\u001b[34m[12/23/2020 00:04:30 INFO 139694968457024] Using default worker.\u001b[0m\n",
      "\u001b[34m[12/23/2020 00:04:31 INFO 139694968457024] Checkpoint loading and saving are disabled.\u001b[0m\n",
      "\u001b[34m[12/23/2020 00:04:31 INFO 139694968457024] nvidia-smi took: 0.0251698493958 secs to identify 0 gpus\u001b[0m\n",
      "\u001b[34m[12/23/2020 00:04:31 INFO 139694968457024] Create Store: dist_async\u001b[0m\n",
      "\u001b[34m[12/23/2020 00:04:32 ERROR 139694968457024] nvidia-smi: failed to run (127): /bin/sh: nvidia-smi: command not found\u001b[0m\n",
      "\u001b[34m[12/23/2020 00:04:32 INFO 139694968457024] Using per-worker sample size = 200000 (Available virtual memory = 6400958464 bytes, GPU free memory = 0 bytes, number of workers = 1). If an out-of-memory error occurs, choose a larger instance type, use dimension reduction, decrease sample_size, and/or decrease mini_batch_size.\u001b[0m\n",
      "\u001b[34m#metrics {\"Metrics\": {\"Max Batches Seen Between Resets\": {\"count\": 1, \"max\": 0, \"sum\": 0.0, \"min\": 0}, \"Number of Batches Since Last Reset\": {\"count\": 1, \"max\": 0, \"sum\": 0.0, \"min\": 0}, \"Number of Records Since Last Reset\": {\"count\": 1, \"max\": 0, \"sum\": 0.0, \"min\": 0}, \"Total Batches Seen\": {\"count\": 1, \"max\": 0, \"sum\": 0.0, \"min\": 0}, \"Total Records Seen\": {\"count\": 1, \"max\": 0, \"sum\": 0.0, \"min\": 0}, \"Max Records Seen Between Resets\": {\"count\": 1, \"max\": 0, \"sum\": 0.0, \"min\": 0}, \"Reset Count\": {\"count\": 1, \"max\": 0, \"sum\": 0.0, \"min\": 0}}, \"EndTime\": 1608681873.892823, \"Dimensions\": {\"Host\": \"algo-1\", \"Meta\": \"init_train_data_iter\", \"Operation\": \"training\", \"Algorithm\": \"AWS/KNN\"}, \"StartTime\": 1608681873.892781}\n",
      "\u001b[0m\n",
      "\u001b[34m[2020-12-23 00:04:33.893] [tensorio] [info] epoch_stats={\"data_pipeline\": \"/opt/ml/input/data/train\", \"epoch\": 0, \"duration\": 2800, \"num_examples\": 1, \"num_bytes\": 689184}\u001b[0m\n",
      "\u001b[34m[00:04:33] /opt/brazil-pkg-cache/packages/AIAlgorithmsMXNet/AIAlgorithmsMXNet-1.3.x.4739.0/AL2012/generic-flavor/src/src/executor/../operator/../common/utils.h:450: \u001b[0m\n",
      "\u001b[34mStorage type fallback detected:\u001b[0m\n",
      "\u001b[34moperator = _slice_assign\u001b[0m\n",
      "\u001b[34minput storage types = [default, csr, ]\u001b[0m\n",
      "\u001b[34moutput storage types = [default, ]\u001b[0m\n",
      "\u001b[34mparams = {\"step\" : [None, None], \"end\" : [None, -2], \"begin\" : [None, None], }\u001b[0m\n",
      "\u001b[34mcontext.dev_mask = cpu\u001b[0m\n",
      "\u001b[34mThe operator with default storage type will be dispatched for execution. You're seeing this warning message because the operator above is unable to process the given ndarrays with specified storage types, context and parameter. Temporary dense ndarrays are generated in order to execute the operator. This does not affect the correctness of the programme. You can set environment variable MXNET_STORAGE_FALLBACK_LOG_VERBOSE to 0 to suppress this warning.\u001b[0m\n",
      "\u001b[34m[2020-12-23 00:04:33.974] [tensorio] [info] epoch_stats={\"data_pipeline\": \"/opt/ml/input/data/train\", \"epoch\": 1, \"duration\": 81, \"num_examples\": 2, \"num_bytes\": 1072528}\u001b[0m\n",
      "\u001b[34m[12/23/2020 00:04:33 INFO 139694968457024] push reservoir to kv... 1 num_workers 0 rank\u001b[0m\n",
      "\u001b[34m[12/23/2020 00:04:34 INFO 139694968457024] ...done (9724)\u001b[0m\n",
      "\u001b[34m[12/23/2020 00:04:34 INFO 139694968457024] #progress_metric: host=algo-1, completed 100 % of epochs\u001b[0m\n",
      "\u001b[34m#metrics {\"Metrics\": {\"Max Batches Seen Between Resets\": {\"count\": 1, \"max\": 2, \"sum\": 2.0, \"min\": 2}, \"Number of Batches Since Last Reset\": {\"count\": 1, \"max\": 2, \"sum\": 2.0, \"min\": 2}, \"Number of Records Since Last Reset\": {\"count\": 1, \"max\": 9724, \"sum\": 9724.0, \"min\": 9724}, \"Total Batches Seen\": {\"count\": 1, \"max\": 2, \"sum\": 2.0, \"min\": 2}, \"Total Records Seen\": {\"count\": 1, \"max\": 9724, \"sum\": 9724.0, \"min\": 9724}, \"Max Records Seen Between Resets\": {\"count\": 1, \"max\": 9724, \"sum\": 9724.0, \"min\": 9724}, \"Reset Count\": {\"count\": 1, \"max\": 1, \"sum\": 1.0, \"min\": 1}}, \"EndTime\": 1608681874.284214, \"Dimensions\": {\"Host\": \"algo-1\", \"Meta\": \"training_data_iter\", \"Operation\": \"training\", \"Algorithm\": \"AWS/KNN\", \"epoch\": 0}, \"StartTime\": 1608681873.89324}\n",
      "\u001b[0m\n",
      "\u001b[34m[12/23/2020 00:04:34 INFO 139694968457024] #throughput_metric: host=algo-1, train throughput=24861.8164493 records/second\u001b[0m\n",
      "\u001b[34m[12/23/2020 00:04:34 INFO 139694968457024] pulled row count... worker 0 rows 9724\u001b[0m\n",
      "\u001b[34m[12/23/2020 00:04:35 INFO 139694968457024] pulled... worker 0 data (9724, 610) labels (9724,) nans 0\u001b[0m\n",
      "\u001b[34m[12/23/2020 00:04:35 INFO 139694968457024] calling index.train...\u001b[0m\n",
      "\u001b[34m[12/23/2020 00:04:35 INFO 139694968457024] ...done calling index.train\u001b[0m\n",
      "\u001b[34m[12/23/2020 00:04:35 INFO 139694968457024] calling index.add...\u001b[0m\n",
      "\u001b[34m[12/23/2020 00:04:35 INFO 139694968457024] ...done calling index.add\u001b[0m\n",
      "\u001b[34m#metrics {\"Metrics\": {\"epochs\": {\"count\": 1, \"max\": 1, \"sum\": 1.0, \"min\": 1}, \"model.serialize.time\": {\"count\": 1, \"max\": 14.139175415039062, \"sum\": 14.139175415039062, \"min\": 14.139175415039062}, \"finalize.time\": {\"count\": 1, \"max\": 1450.714111328125, \"sum\": 1450.714111328125, \"min\": 1450.714111328125}, \"initialize.time\": {\"count\": 1, \"max\": 2735.767126083374, \"sum\": 2735.767126083374, \"min\": 2735.767126083374}, \"update.time\": {\"count\": 1, \"max\": 390.63000679016113, \"sum\": 390.63000679016113, \"min\": 390.63000679016113}}, \"EndTime\": 1608681875.749471, \"Dimensions\": {\"Host\": \"algo-1\", \"Operation\": \"training\", \"Algorithm\": \"AWS/KNN\"}, \"StartTime\": 1608681871.090641}\n",
      "\u001b[0m\n",
      "\u001b[34m[12/23/2020 00:04:35 INFO 139694968457024] Test data is not provided.\u001b[0m\n",
      "\u001b[34m#metrics {\"Metrics\": {\"totaltime\": {\"count\": 1, \"max\": 5329.71715927124, \"sum\": 5329.71715927124, \"min\": 5329.71715927124}, \"setuptime\": {\"count\": 1, \"max\": 32.28616714477539, \"sum\": 32.28616714477539, \"min\": 32.28616714477539}}, \"EndTime\": 1608681875.750762, \"Dimensions\": {\"Host\": \"algo-1\", \"Operation\": \"training\", \"Algorithm\": \"AWS/KNN\"}, \"StartTime\": 1608681875.749551}\n",
      "\u001b[0m\n"
     ]
    },
    {
     "name": "stdout",
     "output_type": "stream",
     "text": [
      "\n",
      "2020-12-23 00:04:44 Uploading - Uploading generated training model\n",
      "2020-12-23 00:04:44 Completed - Training job completed\n",
      "Training seconds: 81\n",
      "Billable seconds: 81\n"
     ]
    }
   ],
   "source": [
    "fit_input = {'train': fm_knn_train_data_path}\n",
    "knn.fit(fit_input)"
   ]
  },
  {
   "cell_type": "markdown",
   "metadata": {},
   "source": [
    "## Create a deployment endpoint for predictions"
   ]
  },
  {
   "cell_type": "code",
   "execution_count": 95,
   "metadata": {},
   "outputs": [
    {
     "name": "stdout",
     "output_type": "stream",
     "text": [
      "---------------!"
     ]
    }
   ],
   "source": [
    "knn_predictor = knn.deploy(instance_type='ml.m5.large', \n",
    "                            initial_instance_count=1,)"
   ]
  },
  {
   "cell_type": "markdown",
   "metadata": {},
   "source": [
    "## Prediction data input"
   ]
  },
  {
   "cell_type": "code",
   "execution_count": null,
   "metadata": {},
   "outputs": [],
   "source": [
    "testinput = mat_movies_users[100:109]"
   ]
  },
  {
   "cell_type": "markdown",
   "metadata": {},
   "source": [
    "## Inference input serialization"
   ]
  },
  {
   "cell_type": "code",
   "execution_count": 110,
   "metadata": {},
   "outputs": [],
   "source": [
    "def knn_serializer(data):\n",
    "    js = {\"instances\": []}\n",
    "    for row in data:\n",
    "        js[\"instances\"].append({\"features\": row.tolist()})\n",
    "    return json.dumps(js).encode()\n",
    "\n",
    "\n",
    "knn_predictor.serializer = knn_serializer\n",
    "knn_predictor.deserializer = json_deserializer\n",
    "knn_predictor.accept = 'application/json; verbose=true'\n",
    "\n",
    "accept=\"application/jsonlines; verbose=true\""
   ]
  },
  {
   "cell_type": "markdown",
   "metadata": {},
   "source": [
    "## Predict the labels and nearest neighbor distances"
   ]
  },
  {
   "cell_type": "code",
   "execution_count": 111,
   "metadata": {},
   "outputs": [],
   "source": [
    "result = knn_predictor.predict(testinput.toarray())"
   ]
  },
  {
   "cell_type": "code",
   "execution_count": 114,
   "metadata": {},
   "outputs": [
    {
     "data": {
      "text/plain": [
       "{'predictions': [{'distances': [43.0,\n",
       "    43.0,\n",
       "    43.0,\n",
       "    43.0,\n",
       "    43.0,\n",
       "    44.0,\n",
       "    44.0,\n",
       "    46.0,\n",
       "    50.0,\n",
       "    50.0],\n",
       "   'labels': [308.0,\n",
       "    33.0,\n",
       "    509.0,\n",
       "    437.0,\n",
       "    399.0,\n",
       "    124.0,\n",
       "    511.0,\n",
       "    335.0,\n",
       "    315.0,\n",
       "    278.0],\n",
       "   'predicted_label': 33.0},\n",
       "  {'distances': [49.75,\n",
       "    50.5,\n",
       "    54.0,\n",
       "    54.0,\n",
       "    55.75,\n",
       "    61.0,\n",
       "    65.0,\n",
       "    66.0,\n",
       "    71.5,\n",
       "    80.25],\n",
       "   'labels': [810.0,\n",
       "    14.0,\n",
       "    521.0,\n",
       "    225.0,\n",
       "    1046.0,\n",
       "    32.0,\n",
       "    1.0,\n",
       "    616.0,\n",
       "    1044.0,\n",
       "    102.0],\n",
       "   'predicted_label': 1.0},\n",
       "  {'distances': [12.0, 15.0, 15.0, 15.0, 15.0, 15.0, 15.0, 15.0, 15.0, 15.0],\n",
       "   'labels': [33.0,\n",
       "    258.0,\n",
       "    286.0,\n",
       "    523.0,\n",
       "    2.0,\n",
       "    325.0,\n",
       "    511.0,\n",
       "    524.0,\n",
       "    250.0,\n",
       "    218.0],\n",
       "   'predicted_label': 2.0},\n",
       "  {'distances': [25.0, 25.0, 25.0, 25.0, 25.0, 25.0, 25.0, 25.0, 25.0, 25.0],\n",
       "   'labels': [900.0,\n",
       "    686.0,\n",
       "    1158.0,\n",
       "    508.0,\n",
       "    687.0,\n",
       "    984.0,\n",
       "    2225.0,\n",
       "    2195.0,\n",
       "    899.0,\n",
       "    312.0],\n",
       "   'predicted_label': 312.0},\n",
       "  {'distances': [30.0, 30.0, 30.0, 30.0, 30.0, 30.0, 30.0, 30.0, 30.0, 30.0],\n",
       "   'labels': [863.0,\n",
       "    399.0,\n",
       "    899.0,\n",
       "    475.0,\n",
       "    125.0,\n",
       "    898.0,\n",
       "    902.0,\n",
       "    900.0,\n",
       "    508.0,\n",
       "    225.0],\n",
       "   'predicted_label': 125.0},\n",
       "  {'distances': [32.0, 36.0, 36.0, 36.0, 36.0, 36.0, 36.0, 40.0, 40.0, 40.0],\n",
       "   'labels': [169.0, 21.0, 33.0, 268.0, 267.0, 269.0, 1.0, 99.0, 137.0, 258.0],\n",
       "   'predicted_label': 1.0},\n",
       "  {'distances': [118.0,\n",
       "    118.75,\n",
       "    120.75,\n",
       "    122.25,\n",
       "    123.0,\n",
       "    126.5,\n",
       "    128.25,\n",
       "    129.5,\n",
       "    130.5,\n",
       "    158.5],\n",
       "   'labels': [338.0,\n",
       "    98.0,\n",
       "    107.0,\n",
       "    278.0,\n",
       "    308.0,\n",
       "    315.0,\n",
       "    44.0,\n",
       "    511.0,\n",
       "    399.0,\n",
       "    258.0],\n",
       "   'predicted_label': 44.0},\n",
       "  {'distances': [52.5,\n",
       "    52.5,\n",
       "    52.75,\n",
       "    55.0,\n",
       "    55.0,\n",
       "    55.25,\n",
       "    55.5,\n",
       "    55.75,\n",
       "    58.0,\n",
       "    79.25],\n",
       "   'labels': [2993.0,\n",
       "    2007.0,\n",
       "    2325.0,\n",
       "    930.0,\n",
       "    316.0,\n",
       "    258.0,\n",
       "    4171.0,\n",
       "    1939.0,\n",
       "    3137.0,\n",
       "    108.0],\n",
       "   'predicted_label': 108.0},\n",
       "  {'distances': [134.5,\n",
       "    135.25,\n",
       "    136.0,\n",
       "    137.0,\n",
       "    137.5,\n",
       "    138.0,\n",
       "    149.5,\n",
       "    153.0,\n",
       "    171.5,\n",
       "    178.75],\n",
       "   'labels': [819.0,\n",
       "    2145.0,\n",
       "    899.0,\n",
       "    21.0,\n",
       "    900.0,\n",
       "    1218.0,\n",
       "    964.0,\n",
       "    521.0,\n",
       "    109.0,\n",
       "    225.0],\n",
       "   'predicted_label': 21.0}]}"
      ]
     },
     "execution_count": 114,
     "metadata": {},
     "output_type": "execute_result"
    }
   ],
   "source": [
    "result"
   ]
  }
 ],
 "metadata": {
  "kernelspec": {
   "display_name": "Python 3",
   "language": "python",
   "name": "python3"
  },
  "language_info": {
   "codemirror_mode": {
    "name": "ipython",
    "version": 3
   },
   "file_extension": ".py",
   "mimetype": "text/x-python",
   "name": "python",
   "nbconvert_exporter": "python",
   "pygments_lexer": "ipython3",
   "version": "3.5.4"
  }
 },
 "nbformat": 4,
 "nbformat_minor": 4
}
