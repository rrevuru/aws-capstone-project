{
 "cells": [
  {
   "cell_type": "markdown",
   "metadata": {},
   "source": [
    "## Importing Libraries"
   ]
  },
  {
   "cell_type": "code",
   "execution_count": 23,
   "metadata": {},
   "outputs": [],
   "source": [
    "import pandas as pd\n",
    "import numpy as np\n",
    "import sagemaker\n",
    "import boto3,io,json\n",
    "from sklearn.model_selection import train_test_split\n",
    "import sagemaker.amazon.common as smac\n",
    "from sagemaker import get_execution_role\n",
    "from sagemaker.predictor import json_deserializer\n",
    "from scipy.sparse import lil_matrix\n",
    "from scipy.sparse import csr_matrix\n",
    "from sagemaker.amazon.amazon_estimator import get_image_uri\n",
    "sage_client = boto3.Session().client('sagemaker')\n",
    "from sagemaker.tuner import IntegerParameter, CategoricalParameter, ContinuousParameter, HyperparameterTuner"
   ]
  },
  {
   "cell_type": "markdown",
   "metadata": {},
   "source": [
    "## Importing datasets from S3 Buckets & read into pandas dataset"
   ]
  },
  {
   "cell_type": "code",
   "execution_count": 24,
   "metadata": {},
   "outputs": [],
   "source": [
    "df_ratings = pd.read_csv('run-1607268992801-part-r-00000.csv')\n",
    "df_movies = pd.read_csv('run-1608674764528-part-r-00000.csv')"
   ]
  },
  {
   "cell_type": "code",
   "execution_count": 25,
   "metadata": {},
   "outputs": [
    {
     "data": {
      "text/html": [
       "<div>\n",
       "<style scoped>\n",
       "    .dataframe tbody tr th:only-of-type {\n",
       "        vertical-align: middle;\n",
       "    }\n",
       "\n",
       "    .dataframe tbody tr th {\n",
       "        vertical-align: top;\n",
       "    }\n",
       "\n",
       "    .dataframe thead th {\n",
       "        text-align: right;\n",
       "    }\n",
       "</style>\n",
       "<table border=\"1\" class=\"dataframe\">\n",
       "  <thead>\n",
       "    <tr style=\"text-align: right;\">\n",
       "      <th></th>\n",
       "      <th>movieid</th>\n",
       "      <th>title</th>\n",
       "      <th>genres</th>\n",
       "    </tr>\n",
       "  </thead>\n",
       "  <tbody>\n",
       "    <tr>\n",
       "      <th>0</th>\n",
       "      <td>579</td>\n",
       "      <td>Escort, The (Scorta, La) (1993)</td>\n",
       "      <td>Crime|Thriller</td>\n",
       "    </tr>\n",
       "    <tr>\n",
       "      <th>1</th>\n",
       "      <td>movieId</td>\n",
       "      <td>title</td>\n",
       "      <td>genres</td>\n",
       "    </tr>\n",
       "  </tbody>\n",
       "</table>\n",
       "</div>"
      ],
      "text/plain": [
       "   movieid                            title          genres\n",
       "0      579  Escort, The (Scorta, La) (1993)  Crime|Thriller\n",
       "1  movieId                            title          genres"
      ]
     },
     "execution_count": 25,
     "metadata": {},
     "output_type": "execute_result"
    }
   ],
   "source": [
    "df_movies.head(2)"
   ]
  },
  {
   "cell_type": "code",
   "execution_count": 26,
   "metadata": {},
   "outputs": [],
   "source": [
    "df_ratings = df_ratings.drop(df_ratings[df_ratings.userid == 'userId'].index)\n",
    "df_movies = df_movies.drop(df_movies[df_movies.movieid == 'movieId'].index)"
   ]
  },
  {
   "cell_type": "code",
   "execution_count": 27,
   "metadata": {},
   "outputs": [],
   "source": [
    "df_ratings.userid = df_ratings.userid.astype(int)\n",
    "df_ratings.movieid = df_ratings.movieid.astype(int)\n",
    "df_ratings.rating = df_ratings.rating.astype(float)\n",
    "df_movies.movieid = df_movies.movieid.astype(int)"
   ]
  },
  {
   "cell_type": "markdown",
   "metadata": {},
   "source": [
    "## Dropping the columns like timestamp and genres"
   ]
  },
  {
   "cell_type": "code",
   "execution_count": 28,
   "metadata": {},
   "outputs": [],
   "source": [
    "df_ratings = df_ratings.drop('timestamp', axis=1)\n",
    "df_movies = df_movies.drop('genres', axis=1)"
   ]
  },
  {
   "cell_type": "markdown",
   "metadata": {},
   "source": [
    "## Creating  pivot table of users and movies"
   ]
  },
  {
   "cell_type": "code",
   "execution_count": 29,
   "metadata": {},
   "outputs": [],
   "source": [
    "df = pd.merge(df_ratings,df_movies, on='movieid')"
   ]
  },
  {
   "cell_type": "code",
   "execution_count": 30,
   "metadata": {},
   "outputs": [
    {
     "data": {
      "text/html": [
       "<div>\n",
       "<style scoped>\n",
       "    .dataframe tbody tr th:only-of-type {\n",
       "        vertical-align: middle;\n",
       "    }\n",
       "\n",
       "    .dataframe tbody tr th {\n",
       "        vertical-align: top;\n",
       "    }\n",
       "\n",
       "    .dataframe thead th {\n",
       "        text-align: right;\n",
       "    }\n",
       "</style>\n",
       "<table border=\"1\" class=\"dataframe\">\n",
       "  <thead>\n",
       "    <tr style=\"text-align: right;\">\n",
       "      <th></th>\n",
       "      <th>userid</th>\n",
       "      <th>movieid</th>\n",
       "      <th>rating</th>\n",
       "      <th>title</th>\n",
       "    </tr>\n",
       "  </thead>\n",
       "  <tbody>\n",
       "    <tr>\n",
       "      <th>0</th>\n",
       "      <td>7</td>\n",
       "      <td>30816</td>\n",
       "      <td>2.0</td>\n",
       "      <td>Phantom of the Opera, The (2004)</td>\n",
       "    </tr>\n",
       "    <tr>\n",
       "      <th>1</th>\n",
       "      <td>21</td>\n",
       "      <td>30816</td>\n",
       "      <td>3.0</td>\n",
       "      <td>Phantom of the Opera, The (2004)</td>\n",
       "    </tr>\n",
       "  </tbody>\n",
       "</table>\n",
       "</div>"
      ],
      "text/plain": [
       "   userid  movieid  rating                             title\n",
       "0       7    30816     2.0  Phantom of the Opera, The (2004)\n",
       "1      21    30816     3.0  Phantom of the Opera, The (2004)"
      ]
     },
     "execution_count": 30,
     "metadata": {},
     "output_type": "execute_result"
    }
   ],
   "source": [
    "df.head(2)"
   ]
  },
  {
   "cell_type": "code",
   "execution_count": 31,
   "metadata": {},
   "outputs": [],
   "source": [
    "mtx = df.pivot_table(index='title', columns='userid', values='rating').fillna(0)"
   ]
  },
  {
   "cell_type": "code",
   "execution_count": 32,
   "metadata": {},
   "outputs": [],
   "source": [
    "X_train, X_test = train_test_split(mtx, test_size=0.33, random_state=42)"
   ]
  },
  {
   "cell_type": "code",
   "execution_count": 33,
   "metadata": {},
   "outputs": [
    {
     "data": {
      "text/html": [
       "<div>\n",
       "<style scoped>\n",
       "    .dataframe tbody tr th:only-of-type {\n",
       "        vertical-align: middle;\n",
       "    }\n",
       "\n",
       "    .dataframe tbody tr th {\n",
       "        vertical-align: top;\n",
       "    }\n",
       "\n",
       "    .dataframe thead th {\n",
       "        text-align: right;\n",
       "    }\n",
       "</style>\n",
       "<table border=\"1\" class=\"dataframe\">\n",
       "  <thead>\n",
       "    <tr style=\"text-align: right;\">\n",
       "      <th>userid</th>\n",
       "      <th>1</th>\n",
       "      <th>2</th>\n",
       "      <th>3</th>\n",
       "      <th>4</th>\n",
       "      <th>5</th>\n",
       "      <th>6</th>\n",
       "      <th>7</th>\n",
       "      <th>8</th>\n",
       "      <th>9</th>\n",
       "      <th>10</th>\n",
       "      <th>...</th>\n",
       "      <th>601</th>\n",
       "      <th>602</th>\n",
       "      <th>603</th>\n",
       "      <th>604</th>\n",
       "      <th>605</th>\n",
       "      <th>606</th>\n",
       "      <th>607</th>\n",
       "      <th>608</th>\n",
       "      <th>609</th>\n",
       "      <th>610</th>\n",
       "    </tr>\n",
       "    <tr>\n",
       "      <th>title</th>\n",
       "      <th></th>\n",
       "      <th></th>\n",
       "      <th></th>\n",
       "      <th></th>\n",
       "      <th></th>\n",
       "      <th></th>\n",
       "      <th></th>\n",
       "      <th></th>\n",
       "      <th></th>\n",
       "      <th></th>\n",
       "      <th></th>\n",
       "      <th></th>\n",
       "      <th></th>\n",
       "      <th></th>\n",
       "      <th></th>\n",
       "      <th></th>\n",
       "      <th></th>\n",
       "      <th></th>\n",
       "      <th></th>\n",
       "      <th></th>\n",
       "      <th></th>\n",
       "    </tr>\n",
       "  </thead>\n",
       "  <tbody>\n",
       "    <tr>\n",
       "      <th>'71 (2014)</th>\n",
       "      <td>0.0</td>\n",
       "      <td>0.0</td>\n",
       "      <td>0.0</td>\n",
       "      <td>0.0</td>\n",
       "      <td>0.0</td>\n",
       "      <td>0.0</td>\n",
       "      <td>0.0</td>\n",
       "      <td>0.0</td>\n",
       "      <td>0.0</td>\n",
       "      <td>0.0</td>\n",
       "      <td>...</td>\n",
       "      <td>0.0</td>\n",
       "      <td>0.0</td>\n",
       "      <td>0.0</td>\n",
       "      <td>0.0</td>\n",
       "      <td>0.0</td>\n",
       "      <td>0.0</td>\n",
       "      <td>0.0</td>\n",
       "      <td>0.0</td>\n",
       "      <td>0.0</td>\n",
       "      <td>4.0</td>\n",
       "    </tr>\n",
       "    <tr>\n",
       "      <th>'Hellboy': The Seeds of Creation (2004)</th>\n",
       "      <td>0.0</td>\n",
       "      <td>0.0</td>\n",
       "      <td>0.0</td>\n",
       "      <td>0.0</td>\n",
       "      <td>0.0</td>\n",
       "      <td>0.0</td>\n",
       "      <td>0.0</td>\n",
       "      <td>0.0</td>\n",
       "      <td>0.0</td>\n",
       "      <td>0.0</td>\n",
       "      <td>...</td>\n",
       "      <td>0.0</td>\n",
       "      <td>0.0</td>\n",
       "      <td>0.0</td>\n",
       "      <td>0.0</td>\n",
       "      <td>0.0</td>\n",
       "      <td>0.0</td>\n",
       "      <td>0.0</td>\n",
       "      <td>0.0</td>\n",
       "      <td>0.0</td>\n",
       "      <td>0.0</td>\n",
       "    </tr>\n",
       "  </tbody>\n",
       "</table>\n",
       "<p>2 rows × 610 columns</p>\n",
       "</div>"
      ],
      "text/plain": [
       "userid                                   1    2    3    4    5    6    7    \\\n",
       "title                                                                        \n",
       "'71 (2014)                               0.0  0.0  0.0  0.0  0.0  0.0  0.0   \n",
       "'Hellboy': The Seeds of Creation (2004)  0.0  0.0  0.0  0.0  0.0  0.0  0.0   \n",
       "\n",
       "userid                                   8    9    10   ...  601  602  603  \\\n",
       "title                                                   ...                  \n",
       "'71 (2014)                               0.0  0.0  0.0  ...  0.0  0.0  0.0   \n",
       "'Hellboy': The Seeds of Creation (2004)  0.0  0.0  0.0  ...  0.0  0.0  0.0   \n",
       "\n",
       "userid                                   604  605  606  607  608  609  610  \n",
       "title                                                                       \n",
       "'71 (2014)                               0.0  0.0  0.0  0.0  0.0  0.0  4.0  \n",
       "'Hellboy': The Seeds of Creation (2004)  0.0  0.0  0.0  0.0  0.0  0.0  0.0  \n",
       "\n",
       "[2 rows x 610 columns]"
      ]
     },
     "execution_count": 33,
     "metadata": {},
     "output_type": "execute_result"
    }
   ],
   "source": [
    "mtx.head(2)"
   ]
  },
  {
   "cell_type": "code",
   "execution_count": 34,
   "metadata": {},
   "outputs": [
    {
     "data": {
      "text/plain": [
       "(3208, 610)"
      ]
     },
     "execution_count": 34,
     "metadata": {},
     "output_type": "execute_result"
    }
   ],
   "source": [
    "X_test.shape"
   ]
  },
  {
   "cell_type": "markdown",
   "metadata": {},
   "source": [
    "## Create a sparse matrix for pivot table"
   ]
  },
  {
   "cell_type": "code",
   "execution_count": 35,
   "metadata": {},
   "outputs": [],
   "source": [
    "mtx_X_train=csr_matrix(X_train.values).astype('float32')\n",
    "mtx_X_test=csr_matrix(X_test.values).astype('float32')"
   ]
  },
  {
   "cell_type": "markdown",
   "metadata": {},
   "source": [
    "## Create data repositories for input/output and model data"
   ]
  },
  {
   "cell_type": "code",
   "execution_count": 36,
   "metadata": {},
   "outputs": [],
   "source": [
    "#Change this value to your own bucket name\n",
    "bucket = 'movies-mlready-bucket'\n",
    "prefix = 'fm-knn-classifier'\n",
    "\n",
    "train_key      = 'train.protobuf'\n",
    "train_prefix   = '{}/{}'.format(prefix, 'train')\n",
    "\n",
    "test_key       = 'test.protobuf'\n",
    "test_prefix    = '{}/{}'.format(prefix, 'test')\n",
    "\n",
    "\n",
    "output_prefix  = 's3://{}/{}/output'.format(bucket, prefix)"
   ]
  },
  {
   "cell_type": "code",
   "execution_count": 37,
   "metadata": {},
   "outputs": [],
   "source": [
    "knn_train_label = np.arange(1,6512)\n",
    "knn_test_label = np.arange(1,3209)"
   ]
  },
  {
   "cell_type": "markdown",
   "metadata": {},
   "source": [
    "## Converting train data into record-io format"
   ]
  },
  {
   "cell_type": "code",
   "execution_count": 38,
   "metadata": {},
   "outputs": [
    {
     "name": "stdout",
     "output_type": "stream",
     "text": [
      "Training data S3 path:  s3://movies-mlready-bucket/fm-knn-classifier/train/train.protobuf\n",
      "Test data S3 path:  s3://movies-mlready-bucket/fm-knn-classifier/test/test.protobuf\n",
      "FM model output S3 path: s3://movies-mlready-bucket/fm-knn-classifier/output\n"
     ]
    }
   ],
   "source": [
    "def writeDatasetToProtobuf(X, bucket, prefix, key, d_type, Y=None):\n",
    "    buf = io.BytesIO()\n",
    "    if d_type == \"sparse\":\n",
    "        smac.write_spmatrix_to_sparse_tensor(buf, X, labels=Y)\n",
    "    else:\n",
    "        smac.write_numpy_to_dense_tensor(buf, X, labels=Y)\n",
    "        \n",
    "    buf.seek(0)\n",
    "    obj = '{}/{}'.format(prefix, key)\n",
    "    boto3.resource('s3').Bucket(bucket).Object(obj).upload_fileobj(buf)\n",
    "    return 's3://{}/{}'.format(bucket,obj)\n",
    "    \n",
    "fm_knn_train_data_path = writeDatasetToProtobuf(mtx_X_train, bucket, train_prefix, train_key, \"sparse\", knn_train_label)\n",
    "fm_knn_test_data_path = writeDatasetToProtobuf(mtx_X_test, bucket, test_prefix, test_key, \"sparse\", knn_test_label)\n",
    "\n",
    "print (\"Training data S3 path: \",fm_knn_train_data_path)\n",
    "print (\"Test data S3 path: \",fm_knn_test_data_path)\n",
    "print (\"FM model output S3 path: {}\".format(output_prefix))"
   ]
  },
  {
   "cell_type": "code",
   "execution_count": 39,
   "metadata": {},
   "outputs": [],
   "source": [
    "nb_recommendations = 5\n",
    "knn_prefix = 'knn'\n",
    "knn_output_prefix  = 's3://{}/{}/output'.format(bucket, knn_prefix)"
   ]
  },
  {
   "cell_type": "markdown",
   "metadata": {},
   "source": [
    "## Creating an Esitmator for K-NearestNeighbor"
   ]
  },
  {
   "cell_type": "code",
   "execution_count": 40,
   "metadata": {},
   "outputs": [],
   "source": [
    "instance_type='ml.m5.large'\n",
    "role = 'arn:aws:iam::719009365707:role/role_sagemaker'"
   ]
  },
  {
   "cell_type": "code",
   "execution_count": 41,
   "metadata": {},
   "outputs": [],
   "source": [
    "knn = sagemaker.estimator.Estimator(get_image_uri(boto3.Session().region_name, \"knn\"),\n",
    "    role,\n",
    "    train_instance_count=1,\n",
    "    train_instance_type=instance_type,\n",
    "    output_path=knn_output_prefix,\n",
    "    sagemaker_session=sagemaker.Session())"
   ]
  },
  {
   "cell_type": "markdown",
   "metadata": {},
   "source": [
    "## Setting Hyperparameters"
   ]
  },
  {
   "cell_type": "code",
   "execution_count": 42,
   "metadata": {},
   "outputs": [],
   "source": [
    "knn.set_hyperparameters(feature_dim='610', \n",
    "                        k=nb_recommendations,\n",
    "                        index_metric=\"L2\", \n",
    "                        predictor_type='classifier',\n",
    "                        sample_size=5000)"
   ]
  },
  {
   "cell_type": "markdown",
   "metadata": {},
   "source": [
    "## Fit the K-NN estimator"
   ]
  },
  {
   "cell_type": "code",
   "execution_count": 43,
   "metadata": {},
   "outputs": [
    {
     "name": "stdout",
     "output_type": "stream",
     "text": [
      "2021-01-06 16:31:40 Starting - Starting the training job...\n",
      "2021-01-06 16:31:42 Starting - Launching requested ML instances.........\n",
      "2021-01-06 16:33:14 Starting - Preparing the instances for training...\n",
      "2021-01-06 16:33:57 Downloading - Downloading input data...\n",
      "2021-01-06 16:34:26 Training - Downloading the training image...\n",
      "2021-01-06 16:35:05 Training - Training image download completed. Training in progress.\u001b[34mDocker entrypoint called with argument(s): train\u001b[0m\n",
      "\u001b[34mRunning default environment configuration script\u001b[0m\n",
      "\u001b[34m[01/06/2021 16:35:09 INFO 139752276612928] Reading default configuration from /opt/amazon/lib/python2.7/site-packages/algorithm/resources/default-conf.json: {u'index_metric': u'L2', u'_tuning_objective_metric': u'', u'_num_gpus': u'auto', u'_log_level': u'info', u'feature_dim': u'auto', u'faiss_index_ivf_nlists': u'auto', u'epochs': u'1', u'index_type': u'faiss.Flat', u'_faiss_index_nprobe': u'5', u'_kvstore': u'dist_async', u'_num_kv_servers': u'1', u'mini_batch_size': u'5000'}\u001b[0m\n",
      "\u001b[34m[01/06/2021 16:35:09 INFO 139752276612928] Merging with provided configuration from /opt/ml/input/config/hyperparameters.json: {u'sample_size': u'5000', u'feature_dim': u'610', u'index_metric': u'INNER_PRODUCT', u'predictor_type': u'classifier', u'k': u'5'}\u001b[0m\n",
      "\u001b[34m[01/06/2021 16:35:09 INFO 139752276612928] Final configuration: {u'index_metric': u'INNER_PRODUCT', u'predictor_type': u'classifier', u'_tuning_objective_metric': u'', u'_num_gpus': u'auto', u'_log_level': u'info', u'feature_dim': u'610', u'faiss_index_ivf_nlists': u'auto', u'sample_size': u'5000', u'epochs': u'1', u'index_type': u'faiss.Flat', u'_faiss_index_nprobe': u'5', u'_kvstore': u'dist_async', u'_num_kv_servers': u'1', u'mini_batch_size': u'5000', u'k': u'5'}\u001b[0m\n",
      "\u001b[34m[01/06/2021 16:35:09 WARNING 139752276612928] Loggers have already been setup.\u001b[0m\n",
      "\u001b[34m[01/06/2021 16:35:09 INFO 139752276612928] Launching parameter server for role scheduler\u001b[0m\n",
      "\u001b[34m[01/06/2021 16:35:09 INFO 139752276612928] {'ECS_CONTAINER_METADATA_URI': 'http://169.254.170.2/v3/c206faaf-288d-4ecc-9fc8-b59c1abbaf0c', 'ECS_CONTAINER_METADATA_URI_V4': 'http://169.254.170.2/v4/c206faaf-288d-4ecc-9fc8-b59c1abbaf0c', 'PROTOCOL_BUFFERS_PYTHON_IMPLEMENTATION_VERSION': '2', 'PATH': '/opt/amazon/bin:/usr/local/nvidia/bin:/usr/local/sbin:/usr/local/bin:/usr/sbin:/usr/bin:/sbin:/bin:/opt/amazon/bin:/opt/amazon/bin', 'SAGEMAKER_HTTP_PORT': '8080', 'HOME': '/root', 'PYTHONUNBUFFERED': 'TRUE', 'CANONICAL_ENVROOT': '/opt/amazon', 'LD_LIBRARY_PATH': '/opt/amazon/lib/python2.7/site-packages/cv2/../../../../lib:/usr/local/nvidia/lib64:/opt/amazon/lib', 'LANG': 'en_US.utf8', 'DMLC_INTERFACE': 'eth0', 'SHLVL': '1', 'AWS_REGION': 'us-east-1', 'SAGEMAKER_METRICS_DIRECTORY': '/opt/ml/output/metrics/sagemaker', 'NVIDIA_VISIBLE_DEVICES': 'void', 'TRAINING_JOB_NAME': 'knn-2021-01-06-16-31-57-465', 'PROTOCOL_BUFFERS_PYTHON_IMPLEMENTATION': 'cpp', 'ENVROOT': '/opt/amazon', 'SAGEMAKER_DATA_PATH': '/opt/ml', 'NVIDIA_DRIVER_CAPABILITIES': 'compute,utility', 'NVIDIA_REQUIRE_CUDA': 'cuda>=9.0', 'OMP_NUM_THREADS': '1', 'HOSTNAME': 'ip-10-2-215-203.ec2.internal', 'AWS_CONTAINER_CREDENTIALS_RELATIVE_URI': '/v2/credentials/690f1c36-dc46-41de-ac04-5a937cff7a34', 'PWD': '/', 'TRAINING_JOB_ARN': 'arn:aws:sagemaker:us-east-1:719009365707:training-job/knn-2021-01-06-16-31-57-465', 'AWS_EXECUTION_ENV': 'AWS_ECS_EC2'}\u001b[0m\n",
      "\u001b[34m[01/06/2021 16:35:09 INFO 139752276612928] envs={'ECS_CONTAINER_METADATA_URI': 'http://169.254.170.2/v3/c206faaf-288d-4ecc-9fc8-b59c1abbaf0c', 'ECS_CONTAINER_METADATA_URI_V4': 'http://169.254.170.2/v4/c206faaf-288d-4ecc-9fc8-b59c1abbaf0c', 'PROTOCOL_BUFFERS_PYTHON_IMPLEMENTATION_VERSION': '2', 'DMLC_NUM_WORKER': '1', 'DMLC_PS_ROOT_PORT': '9000', 'PATH': '/opt/amazon/bin:/usr/local/nvidia/bin:/usr/local/sbin:/usr/local/bin:/usr/sbin:/usr/bin:/sbin:/bin:/opt/amazon/bin:/opt/amazon/bin', 'SAGEMAKER_HTTP_PORT': '8080', 'HOME': '/root', 'PYTHONUNBUFFERED': 'TRUE', 'CANONICAL_ENVROOT': '/opt/amazon', 'LD_LIBRARY_PATH': '/opt/amazon/lib/python2.7/site-packages/cv2/../../../../lib:/usr/local/nvidia/lib64:/opt/amazon/lib', 'LANG': 'en_US.utf8', 'DMLC_INTERFACE': 'eth0', 'SHLVL': '1', 'DMLC_PS_ROOT_URI': '10.2.215.203', 'AWS_REGION': 'us-east-1', 'SAGEMAKER_METRICS_DIRECTORY': '/opt/ml/output/metrics/sagemaker', 'NVIDIA_VISIBLE_DEVICES': 'void', 'TRAINING_JOB_NAME': 'knn-2021-01-06-16-31-57-465', 'PROTOCOL_BUFFERS_PYTHON_IMPLEMENTATION': 'cpp', 'ENVROOT': '/opt/amazon', 'SAGEMAKER_DATA_PATH': '/opt/ml', 'NVIDIA_DRIVER_CAPABILITIES': 'compute,utility', 'NVIDIA_REQUIRE_CUDA': 'cuda>=9.0', 'OMP_NUM_THREADS': '1', 'HOSTNAME': 'ip-10-2-215-203.ec2.internal', 'AWS_CONTAINER_CREDENTIALS_RELATIVE_URI': '/v2/credentials/690f1c36-dc46-41de-ac04-5a937cff7a34', 'DMLC_ROLE': 'scheduler', 'PWD': '/', 'DMLC_NUM_SERVER': '1', 'TRAINING_JOB_ARN': 'arn:aws:sagemaker:us-east-1:719009365707:training-job/knn-2021-01-06-16-31-57-465', 'AWS_EXECUTION_ENV': 'AWS_ECS_EC2'}\u001b[0m\n",
      "\u001b[34m[01/06/2021 16:35:09 INFO 139752276612928] Launching parameter server for role server\u001b[0m\n",
      "\u001b[34m[01/06/2021 16:35:09 INFO 139752276612928] {'ECS_CONTAINER_METADATA_URI': 'http://169.254.170.2/v3/c206faaf-288d-4ecc-9fc8-b59c1abbaf0c', 'ECS_CONTAINER_METADATA_URI_V4': 'http://169.254.170.2/v4/c206faaf-288d-4ecc-9fc8-b59c1abbaf0c', 'PROTOCOL_BUFFERS_PYTHON_IMPLEMENTATION_VERSION': '2', 'PATH': '/opt/amazon/bin:/usr/local/nvidia/bin:/usr/local/sbin:/usr/local/bin:/usr/sbin:/usr/bin:/sbin:/bin:/opt/amazon/bin:/opt/amazon/bin', 'SAGEMAKER_HTTP_PORT': '8080', 'HOME': '/root', 'PYTHONUNBUFFERED': 'TRUE', 'CANONICAL_ENVROOT': '/opt/amazon', 'LD_LIBRARY_PATH': '/opt/amazon/lib/python2.7/site-packages/cv2/../../../../lib:/usr/local/nvidia/lib64:/opt/amazon/lib', 'LANG': 'en_US.utf8', 'DMLC_INTERFACE': 'eth0', 'SHLVL': '1', 'AWS_REGION': 'us-east-1', 'SAGEMAKER_METRICS_DIRECTORY': '/opt/ml/output/metrics/sagemaker', 'NVIDIA_VISIBLE_DEVICES': 'void', 'TRAINING_JOB_NAME': 'knn-2021-01-06-16-31-57-465', 'PROTOCOL_BUFFERS_PYTHON_IMPLEMENTATION': 'cpp', 'ENVROOT': '/opt/amazon', 'SAGEMAKER_DATA_PATH': '/opt/ml', 'NVIDIA_DRIVER_CAPABILITIES': 'compute,utility', 'NVIDIA_REQUIRE_CUDA': 'cuda>=9.0', 'OMP_NUM_THREADS': '1', 'HOSTNAME': 'ip-10-2-215-203.ec2.internal', 'AWS_CONTAINER_CREDENTIALS_RELATIVE_URI': '/v2/credentials/690f1c36-dc46-41de-ac04-5a937cff7a34', 'PWD': '/', 'TRAINING_JOB_ARN': 'arn:aws:sagemaker:us-east-1:719009365707:training-job/knn-2021-01-06-16-31-57-465', 'AWS_EXECUTION_ENV': 'AWS_ECS_EC2'}\u001b[0m\n",
      "\u001b[34m[01/06/2021 16:35:09 INFO 139752276612928] envs={'ECS_CONTAINER_METADATA_URI': 'http://169.254.170.2/v3/c206faaf-288d-4ecc-9fc8-b59c1abbaf0c', 'ECS_CONTAINER_METADATA_URI_V4': 'http://169.254.170.2/v4/c206faaf-288d-4ecc-9fc8-b59c1abbaf0c', 'PROTOCOL_BUFFERS_PYTHON_IMPLEMENTATION_VERSION': '2', 'DMLC_NUM_WORKER': '1', 'DMLC_PS_ROOT_PORT': '9000', 'PATH': '/opt/amazon/bin:/usr/local/nvidia/bin:/usr/local/sbin:/usr/local/bin:/usr/sbin:/usr/bin:/sbin:/bin:/opt/amazon/bin:/opt/amazon/bin', 'SAGEMAKER_HTTP_PORT': '8080', 'HOME': '/root', 'PYTHONUNBUFFERED': 'TRUE', 'CANONICAL_ENVROOT': '/opt/amazon', 'LD_LIBRARY_PATH': '/opt/amazon/lib/python2.7/site-packages/cv2/../../../../lib:/usr/local/nvidia/lib64:/opt/amazon/lib', 'LANG': 'en_US.utf8', 'DMLC_INTERFACE': 'eth0', 'SHLVL': '1', 'DMLC_PS_ROOT_URI': '10.2.215.203', 'AWS_REGION': 'us-east-1', 'SAGEMAKER_METRICS_DIRECTORY': '/opt/ml/output/metrics/sagemaker', 'NVIDIA_VISIBLE_DEVICES': 'void', 'TRAINING_JOB_NAME': 'knn-2021-01-06-16-31-57-465', 'PROTOCOL_BUFFERS_PYTHON_IMPLEMENTATION': 'cpp', 'ENVROOT': '/opt/amazon', 'SAGEMAKER_DATA_PATH': '/opt/ml', 'NVIDIA_DRIVER_CAPABILITIES': 'compute,utility', 'NVIDIA_REQUIRE_CUDA': 'cuda>=9.0', 'OMP_NUM_THREADS': '1', 'HOSTNAME': 'ip-10-2-215-203.ec2.internal', 'AWS_CONTAINER_CREDENTIALS_RELATIVE_URI': '/v2/credentials/690f1c36-dc46-41de-ac04-5a937cff7a34', 'DMLC_ROLE': 'server', 'PWD': '/', 'DMLC_NUM_SERVER': '1', 'TRAINING_JOB_ARN': 'arn:aws:sagemaker:us-east-1:719009365707:training-job/knn-2021-01-06-16-31-57-465', 'AWS_EXECUTION_ENV': 'AWS_ECS_EC2'}\u001b[0m\n",
      "\u001b[34m[01/06/2021 16:35:09 INFO 139752276612928] Environment: {'ECS_CONTAINER_METADATA_URI': 'http://169.254.170.2/v3/c206faaf-288d-4ecc-9fc8-b59c1abbaf0c', 'ECS_CONTAINER_METADATA_URI_V4': 'http://169.254.170.2/v4/c206faaf-288d-4ecc-9fc8-b59c1abbaf0c', 'PROTOCOL_BUFFERS_PYTHON_IMPLEMENTATION_VERSION': '2', 'DMLC_PS_ROOT_PORT': '9000', 'DMLC_NUM_WORKER': '1', 'SAGEMAKER_HTTP_PORT': '8080', 'PATH': '/opt/amazon/bin:/usr/local/nvidia/bin:/usr/local/sbin:/usr/local/bin:/usr/sbin:/usr/bin:/sbin:/bin:/opt/amazon/bin:/opt/amazon/bin', 'PYTHONUNBUFFERED': 'TRUE', 'CANONICAL_ENVROOT': '/opt/amazon', 'LD_LIBRARY_PATH': '/opt/amazon/lib/python2.7/site-packages/cv2/../../../../lib:/usr/local/nvidia/lib64:/opt/amazon/lib', 'LANG': 'en_US.utf8', 'DMLC_INTERFACE': 'eth0', 'SHLVL': '1', 'DMLC_PS_ROOT_URI': '10.2.215.203', 'AWS_REGION': 'us-east-1', 'SAGEMAKER_METRICS_DIRECTORY': '/opt/ml/output/metrics/sagemaker', 'NVIDIA_VISIBLE_DEVICES': 'void', 'TRAINING_JOB_NAME': 'knn-2021-01-06-16-31-57-465', 'HOME': '/root', 'PROTOCOL_BUFFERS_PYTHON_IMPLEMENTATION': 'cpp', 'ENVROOT': '/opt/amazon', 'SAGEMAKER_DATA_PATH': '/opt/ml', 'NVIDIA_DRIVER_CAPABILITIES': 'compute,utility', 'NVIDIA_REQUIRE_CUDA': 'cuda>=9.0', 'OMP_NUM_THREADS': '1', 'HOSTNAME': 'ip-10-2-215-203.ec2.internal', 'AWS_CONTAINER_CREDENTIALS_RELATIVE_URI': '/v2/credentials/690f1c36-dc46-41de-ac04-5a937cff7a34', 'DMLC_ROLE': 'worker', 'PWD': '/', 'DMLC_NUM_SERVER': '1', 'TRAINING_JOB_ARN': 'arn:aws:sagemaker:us-east-1:719009365707:training-job/knn-2021-01-06-16-31-57-465', 'AWS_EXECUTION_ENV': 'AWS_ECS_EC2'}\u001b[0m\n",
      "\u001b[34mProcess 58 is a shell:scheduler.\u001b[0m\n",
      "\u001b[34mProcess 67 is a shell:server.\u001b[0m\n",
      "\u001b[34mProcess 1 is a worker.\u001b[0m\n",
      "\u001b[34m[01/06/2021 16:35:09 INFO 139752276612928] Using default worker.\u001b[0m\n"
     ]
    },
    {
     "name": "stdout",
     "output_type": "stream",
     "text": [
      "\u001b[34m[01/06/2021 16:35:10 INFO 139752276612928] Checkpoint loading and saving are disabled.\u001b[0m\n",
      "\u001b[34m[2021-01-06 16:35:10.203] [tensorio] [warning] TensorIO is already initialized; ignoring the initialization routine.\u001b[0m\n",
      "\u001b[34m[01/06/2021 16:35:10 INFO 139752276612928] nvidia-smi took: 0.0251741409302 secs to identify 0 gpus\u001b[0m\n",
      "\u001b[34m[01/06/2021 16:35:10 INFO 139752276612928] Create Store: dist_async\u001b[0m\n",
      "\u001b[34m[01/06/2021 16:35:10 ERROR 139752276612928] nvidia-smi: failed to run (127): /bin/sh: nvidia-smi: command not found\u001b[0m\n",
      "\u001b[34m[01/06/2021 16:35:10 INFO 139752276612928] Using per-worker sample size = 5000 (Available virtual memory = 6404329472 bytes, GPU free memory = 0 bytes, number of workers = 1). If an out-of-memory error occurs, choose a larger instance type, use dimension reduction, decrease sample_size, and/or decrease mini_batch_size.\u001b[0m\n",
      "\u001b[34m#metrics {\"Metrics\": {\"Max Batches Seen Between Resets\": {\"count\": 1, \"max\": 0, \"sum\": 0.0, \"min\": 0}, \"Number of Batches Since Last Reset\": {\"count\": 1, \"max\": 0, \"sum\": 0.0, \"min\": 0}, \"Number of Records Since Last Reset\": {\"count\": 1, \"max\": 0, \"sum\": 0.0, \"min\": 0}, \"Total Batches Seen\": {\"count\": 1, \"max\": 0, \"sum\": 0.0, \"min\": 0}, \"Total Records Seen\": {\"count\": 1, \"max\": 0, \"sum\": 0.0, \"min\": 0}, \"Max Records Seen Between Resets\": {\"count\": 1, \"max\": 0, \"sum\": 0.0, \"min\": 0}, \"Reset Count\": {\"count\": 1, \"max\": 0, \"sum\": 0.0, \"min\": 0}}, \"EndTime\": 1609950911.138782, \"Dimensions\": {\"Host\": \"algo-1\", \"Meta\": \"init_train_data_iter\", \"Operation\": \"training\", \"Algorithm\": \"AWS/KNN\"}, \"StartTime\": 1609950911.13872}\n",
      "\u001b[0m\n",
      "\u001b[34m[2021-01-06 16:35:11.141] [tensorio] [info] epoch_stats={\"data_pipeline\": \"/opt/ml/input/data/train\", \"epoch\": 0, \"duration\": 990, \"num_examples\": 1, \"num_bytes\": 551380}\u001b[0m\n",
      "\u001b[34m[16:35:11] /opt/brazil-pkg-cache/packages/AIAlgorithmsMXNet/AIAlgorithmsMXNet-1.3.x.4739.0/AL2012/generic-flavor/src/src/executor/../operator/../common/utils.h:450: \u001b[0m\n",
      "\u001b[34mStorage type fallback detected:\u001b[0m\n",
      "\u001b[34moperator = _slice_assign\u001b[0m\n",
      "\u001b[34minput storage types = [default, csr, ]\u001b[0m\n",
      "\u001b[34moutput storage types = [default, ]\u001b[0m\n",
      "\u001b[34mparams = {\"step\" : [None, None], \"end\" : [None, -2], \"begin\" : [None, None], }\u001b[0m\n",
      "\u001b[34mcontext.dev_mask = cpu\u001b[0m\n",
      "\u001b[34mThe operator with default storage type will be dispatched for execution. You're seeing this warning message because the operator above is unable to process the given ndarrays with specified storage types, context and parameter. Temporary dense ndarrays are generated in order to execute the operator. This does not affect the correctness of the programme. You can set environment variable MXNET_STORAGE_FALLBACK_LOG_VERBOSE to 0 to suppress this warning.\u001b[0m\n",
      "\u001b[34m[2021-01-06 16:35:11.229] [tensorio] [info] epoch_stats={\"data_pipeline\": \"/opt/ml/input/data/train\", \"epoch\": 1, \"duration\": 87, \"num_examples\": 2, \"num_bytes\": 714416}\u001b[0m\n",
      "\u001b[34m[01/06/2021 16:35:11 INFO 139752276612928] push reservoir to kv... 1 num_workers 0 rank\u001b[0m\n",
      "\u001b[34m[01/06/2021 16:35:11 INFO 139752276612928] ...done (5000)\u001b[0m\n",
      "\u001b[34m[01/06/2021 16:35:11 INFO 139752276612928] #progress_metric: host=algo-1, completed 100 % of epochs\u001b[0m\n",
      "\u001b[34m#metrics {\"Metrics\": {\"Max Batches Seen Between Resets\": {\"count\": 1, \"max\": 2, \"sum\": 2.0, \"min\": 2}, \"Number of Batches Since Last Reset\": {\"count\": 1, \"max\": 2, \"sum\": 2.0, \"min\": 2}, \"Number of Records Since Last Reset\": {\"count\": 1, \"max\": 6511, \"sum\": 6511.0, \"min\": 6511}, \"Total Batches Seen\": {\"count\": 1, \"max\": 2, \"sum\": 2.0, \"min\": 2}, \"Total Records Seen\": {\"count\": 1, \"max\": 6511, \"sum\": 6511.0, \"min\": 6511}, \"Max Records Seen Between Resets\": {\"count\": 1, \"max\": 6511, \"sum\": 6511.0, \"min\": 6511}, \"Reset Count\": {\"count\": 1, \"max\": 1, \"sum\": 1.0, \"min\": 1}}, \"EndTime\": 1609950911.273162, \"Dimensions\": {\"Host\": \"algo-1\", \"Meta\": \"training_data_iter\", \"Operation\": \"training\", \"Algorithm\": \"AWS/KNN\", \"epoch\": 0}, \"StartTime\": 1609950911.141379}\n",
      "\u001b[0m\n",
      "\u001b[34m[01/06/2021 16:35:11 INFO 139752276612928] #throughput_metric: host=algo-1, train throughput=49349.3005652 records/second\u001b[0m\n",
      "\u001b[34m[01/06/2021 16:35:11 INFO 139752276612928] pulled row count... worker 0 rows 5000\u001b[0m\n",
      "\u001b[34m[01/06/2021 16:35:11 INFO 139752276612928] pulled... worker 0 data (5000, 610) labels (5000,) nans 0\u001b[0m\n",
      "\u001b[34m[01/06/2021 16:35:11 INFO 139752276612928] calling index.train...\u001b[0m\n",
      "\u001b[34m[01/06/2021 16:35:11 INFO 139752276612928] ...done calling index.train\u001b[0m\n",
      "\u001b[34m[01/06/2021 16:35:11 INFO 139752276612928] calling index.add...\u001b[0m\n",
      "\u001b[34m[01/06/2021 16:35:11 INFO 139752276612928] ...done calling index.add\u001b[0m\n",
      "\u001b[34m#metrics {\"Metrics\": {\"epochs\": {\"count\": 1, \"max\": 1, \"sum\": 1.0, \"min\": 1}, \"model.serialize.time\": {\"count\": 1, \"max\": 10.563850402832031, \"sum\": 10.563850402832031, \"min\": 10.563850402832031}, \"finalize.time\": {\"count\": 1, \"max\": 80.3229808807373, \"sum\": 80.3229808807373, \"min\": 80.3229808807373}, \"initialize.time\": {\"count\": 1, \"max\": 895.8849906921387, \"sum\": 895.8849906921387, \"min\": 895.8849906921387}, \"update.time\": {\"count\": 1, \"max\": 131.4680576324463, \"sum\": 131.4680576324463, \"min\": 131.4680576324463}}, \"EndTime\": 1609950911.364444, \"Dimensions\": {\"Host\": \"algo-1\", \"Operation\": \"training\", \"Algorithm\": \"AWS/KNN\"}, \"StartTime\": 1609950910.146305}\n",
      "\u001b[0m\n",
      "\u001b[34m[2021-01-06 16:35:12.451] [tensorio] [info] epoch_stats={\"data_pipeline\": \"/opt/ml/input/data/test\", \"epoch\": 0, \"duration\": 2247, \"num_examples\": 1, \"num_bytes\": 357804}\u001b[0m\n",
      "\u001b[34m#metrics {\"Metrics\": {\"Max Batches Seen Between Resets\": {\"count\": 1, \"max\": 1, \"sum\": 1.0, \"min\": 1}, \"Number of Batches Since Last Reset\": {\"count\": 1, \"max\": 1, \"sum\": 1.0, \"min\": 1}, \"Number of Records Since Last Reset\": {\"count\": 1, \"max\": 3208, \"sum\": 3208.0, \"min\": 3208}, \"Total Batches Seen\": {\"count\": 1, \"max\": 1, \"sum\": 1.0, \"min\": 1}, \"Total Records Seen\": {\"count\": 1, \"max\": 3208, \"sum\": 3208.0, \"min\": 3208}, \"Max Records Seen Between Resets\": {\"count\": 1, \"max\": 3208, \"sum\": 3208.0, \"min\": 3208}, \"Reset Count\": {\"count\": 1, \"max\": 0, \"sum\": 0.0, \"min\": 0}}, \"EndTime\": 1609950919.92462, \"Dimensions\": {\"Host\": \"algo-1\", \"Meta\": \"test_data_iter\", \"Operation\": \"training\", \"Algorithm\": \"AWS/KNN\"}, \"StartTime\": 1609950911.365058}\n",
      "\u001b[0m\n",
      "\u001b[34m[01/06/2021 16:35:19 INFO 139752276612928] #test_score (algo-1) : ('accuracy', 0.0)\u001b[0m\n",
      "\u001b[34m[01/06/2021 16:35:19 INFO 139752276612928] #test_score (algo-1) : ('macro_f_1.000', nan)\u001b[0m\n",
      "\u001b[34m[01/06/2021 16:35:19 INFO 139752276612928] #quality_metric: host=algo-1, test accuracy <score>=0.0\u001b[0m\n",
      "\u001b[34m[01/06/2021 16:35:19 INFO 139752276612928] #quality_metric: host=algo-1, test macro_f_1.000 <score>=nan\u001b[0m\n",
      "\u001b[34m#metrics {\"Metrics\": {\"totaltime\": {\"count\": 1, \"max\": 10760.709047317505, \"sum\": 10760.709047317505, \"min\": 10760.709047317505}, \"setuptime\": {\"count\": 1, \"max\": 33.47611427307129, \"sum\": 33.47611427307129, \"min\": 33.47611427307129}}, \"EndTime\": 1609950919.926938, \"Dimensions\": {\"Host\": \"algo-1\", \"Operation\": \"training\", \"Algorithm\": \"AWS/KNN\"}, \"StartTime\": 1609950911.364519}\n",
      "\u001b[0m\n",
      "\n",
      "2021-01-06 16:35:28 Uploading - Uploading generated training model\n",
      "2021-01-06 16:35:28 Completed - Training job completed\n",
      "Training seconds: 91\n",
      "Billable seconds: 91\n"
     ]
    }
   ],
   "source": [
    "fit_input = {'train': fm_knn_train_data_path, 'test': fm_knn_test_data_path}\n",
    "knn.fit(fit_input)"
   ]
  },
  {
   "cell_type": "markdown",
   "metadata": {},
   "source": [
    "## Create a deployment endpoint for predictions"
   ]
  },
  {
   "cell_type": "code",
   "execution_count": 44,
   "metadata": {},
   "outputs": [
    {
     "name": "stdout",
     "output_type": "stream",
     "text": [
      "---------------!"
     ]
    }
   ],
   "source": [
    "knn_predictor = knn.deploy(instance_type='ml.m5.large', \n",
    "                            initial_instance_count=1,)"
   ]
  },
  {
   "cell_type": "markdown",
   "metadata": {},
   "source": [
    "## Prediction data input"
   ]
  },
  {
   "cell_type": "markdown",
   "metadata": {},
   "source": [
    "## Inference input serialization"
   ]
  },
  {
   "cell_type": "code",
   "execution_count": 45,
   "metadata": {},
   "outputs": [],
   "source": [
    "def knn_serializer(data):\n",
    "    js = {\"instances\": []}\n",
    "    for row in data:\n",
    "        js[\"instances\"].append({\"features\": row.tolist()})\n",
    "    return json.dumps(js).encode()\n",
    "\n",
    "\n",
    "knn_predictor.serializer = knn_serializer\n",
    "knn_predictor.deserializer = json_deserializer\n",
    "knn_predictor.accept = 'application/json; verbose=true'\n",
    "\n",
    "accept=\"application/jsonlines; verbose=true\""
   ]
  },
  {
   "cell_type": "markdown",
   "metadata": {},
   "source": [
    "## Predict the labels and nearest neighbor distances"
   ]
  },
  {
   "cell_type": "code",
   "execution_count": 46,
   "metadata": {},
   "outputs": [],
   "source": [
    "knn_result = knn_predictor.predict(mtx_X_test[1002:1004].toarray())"
   ]
  },
  {
   "cell_type": "code",
   "execution_count": 47,
   "metadata": {},
   "outputs": [],
   "source": [
    "import json"
   ]
  },
  {
   "cell_type": "code",
   "execution_count": 48,
   "metadata": {},
   "outputs": [],
   "source": [
    "results_json = json.dumps(knn_result, indent=10)"
   ]
  },
  {
   "cell_type": "code",
   "execution_count": 49,
   "metadata": {},
   "outputs": [
    {
     "name": "stdout",
     "output_type": "stream",
     "text": [
      "{\n",
      "          \"predictions\": [\n",
      "                    {\n",
      "                              \"distances\": [\n",
      "                                        15.0,\n",
      "                                        15.0,\n",
      "                                        15.0,\n",
      "                                        15.0,\n",
      "                                        15.0\n",
      "                              ],\n",
      "                              \"predicted_label\": 1049.0,\n",
      "                              \"labels\": [\n",
      "                                        1106.0,\n",
      "                                        1946.0,\n",
      "                                        1049.0,\n",
      "                                        5273.0,\n",
      "                                        2325.0\n",
      "                              ]\n",
      "                    },\n",
      "                    {\n",
      "                              \"distances\": [\n",
      "                                        17.5,\n",
      "                                        17.5,\n",
      "                                        17.5,\n",
      "                                        17.5,\n",
      "                                        17.5\n",
      "                              ],\n",
      "                              \"predicted_label\": 2309.0,\n",
      "                              \"labels\": [\n",
      "                                        4481.0,\n",
      "                                        2309.0,\n",
      "                                        6100.0,\n",
      "                                        5020.0,\n",
      "                                        5826.0\n",
      "                              ]\n",
      "                    }\n",
      "          ]\n",
      "}\n"
     ]
    }
   ],
   "source": [
    "print(results_json)"
   ]
  },
  {
   "cell_type": "code",
   "execution_count": null,
   "metadata": {},
   "outputs": [],
   "source": []
  }
 ],
 "metadata": {
  "kernelspec": {
   "display_name": "Python 3",
   "language": "python",
   "name": "python3"
  },
  "language_info": {
   "codemirror_mode": {
    "name": "ipython",
    "version": 3
   },
   "file_extension": ".py",
   "mimetype": "text/x-python",
   "name": "python",
   "nbconvert_exporter": "python",
   "pygments_lexer": "ipython3",
   "version": "3.5.4"
  }
 },
 "nbformat": 4,
 "nbformat_minor": 4
}
