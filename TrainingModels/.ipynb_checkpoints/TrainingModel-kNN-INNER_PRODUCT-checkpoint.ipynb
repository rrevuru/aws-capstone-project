{
 "cells": [
  {
   "cell_type": "markdown",
   "metadata": {},
   "source": [
    "## Importing Libraries"
   ]
  },
  {
   "cell_type": "code",
   "execution_count": 1,
   "metadata": {},
   "outputs": [],
   "source": [
    "import pandas as pd\n",
    "import numpy as np\n",
    "import sagemaker\n",
    "import boto3,io,json\n",
    "from sklearn.model_selection import train_test_split\n",
    "import sagemaker.amazon.common as smac\n",
    "from sagemaker import get_execution_role\n",
    "from sagemaker.predictor import json_deserializer\n",
    "from scipy.sparse import lil_matrix\n",
    "from scipy.sparse import csr_matrix\n",
    "from sagemaker.amazon.amazon_estimator import get_image_uri\n",
    "sage_client = boto3.Session().client('sagemaker')\n",
    "from sagemaker.tuner import IntegerParameter, CategoricalParameter, ContinuousParameter, HyperparameterTuner"
   ]
  },
  {
   "cell_type": "markdown",
   "metadata": {},
   "source": [
    "## Importing datasets from S3 Buckets & read into pandas dataset"
   ]
  },
  {
   "cell_type": "code",
   "execution_count": 2,
   "metadata": {},
   "outputs": [],
   "source": [
    "df_ratings = pd.read_csv('run-1607268992801-part-r-00000.csv')\n",
    "df_movies = pd.read_csv('run-1608674764528-part-r-00000.csv')"
   ]
  },
  {
   "cell_type": "code",
   "execution_count": 3,
   "metadata": {},
   "outputs": [],
   "source": [
    "df_ratings = df_ratings.drop(df_ratings[df_ratings.userid == 'userId'].index)\n",
    "df_movies = df_movies.drop(df_movies[df_movies.movieid == 'movieId'].index)\n",
    "df_ratings.userid = df_ratings.userid.astype(int)\n",
    "df_ratings.movieid = df_ratings.movieid.astype(int)\n",
    "df_ratings.rating = df_ratings.rating.astype(float)\n",
    "df_movies.movieid = df_movies.movieid.astype(int)"
   ]
  },
  {
   "cell_type": "markdown",
   "metadata": {},
   "source": [
    "## Dropping the columns like timestamp and genres"
   ]
  },
  {
   "cell_type": "code",
   "execution_count": 4,
   "metadata": {},
   "outputs": [],
   "source": [
    "df_ratings = df_ratings.drop('timestamp', axis=1)\n",
    "df_movies = df_movies.drop('genres', axis=1)"
   ]
  },
  {
   "cell_type": "markdown",
   "metadata": {},
   "source": [
    "## Creating  pivot table of users and movies"
   ]
  },
  {
   "cell_type": "code",
   "execution_count": 5,
   "metadata": {},
   "outputs": [],
   "source": [
    "df = pd.merge(df_ratings,df_movies, on='movieid')"
   ]
  },
  {
   "cell_type": "code",
   "execution_count": 9,
   "metadata": {},
   "outputs": [],
   "source": [
    "mtx = df.pivot_table(index='movieid', columns='userid', values='rating').fillna(0)"
   ]
  },
  {
   "cell_type": "markdown",
   "metadata": {},
   "source": [
    "## Creating test and train sets"
   ]
  },
  {
   "cell_type": "code",
   "execution_count": 10,
   "metadata": {},
   "outputs": [],
   "source": [
    "X_train, X_test = train_test_split(mtx, test_size=0.33, random_state=42)"
   ]
  },
  {
   "cell_type": "markdown",
   "metadata": {},
   "source": [
    "## Create a sparse matrix for test and train sets"
   ]
  },
  {
   "cell_type": "code",
   "execution_count": 14,
   "metadata": {},
   "outputs": [],
   "source": [
    "mtx_X_train=csr_matrix(X_train.values).astype('float32')\n",
    "mtx_X_test=csr_matrix(X_test.values).astype('float32')"
   ]
  },
  {
   "cell_type": "markdown",
   "metadata": {},
   "source": [
    "## Create data repositories for input/output and model data"
   ]
  },
  {
   "cell_type": "code",
   "execution_count": 18,
   "metadata": {},
   "outputs": [],
   "source": [
    "#Change this value to your own bucket name\n",
    "bucket = 'movies-mlready-bucket'\n",
    "prefix = 'knn-regressor'\n",
    "\n",
    "train_key      = 'train.protobuf'\n",
    "train_prefix   = '{}/{}'.format(prefix, 'train')\n",
    "\n",
    "test_key       = 'test.protobuf'\n",
    "test_prefix    = '{}/{}'.format(prefix, 'test')\n",
    "\n",
    "\n",
    "output_prefix  = 's3://{}/{}/output'.format(bucket, prefix)"
   ]
  },
  {
   "cell_type": "code",
   "execution_count": 19,
   "metadata": {},
   "outputs": [],
   "source": [
    "knn_train_label = np.arange(1,6516)\n",
    "knn_test_label = np.arange(1,3210)"
   ]
  },
  {
   "cell_type": "markdown",
   "metadata": {},
   "source": [
    "## Converting train data into record-io format"
   ]
  },
  {
   "cell_type": "code",
   "execution_count": 21,
   "metadata": {},
   "outputs": [
    {
     "name": "stdout",
     "output_type": "stream",
     "text": [
      "Training data S3 path:  s3://movies-mlready-bucket/knn-regressor/train/train.protobuf\n",
      "Test data S3 path:  s3://movies-mlready-bucket/knn-regressor/test/test.protobuf\n",
      "FM model output S3 path: s3://movies-mlready-bucket/knn-regressor/output\n"
     ]
    }
   ],
   "source": [
    "def writeDatasetToProtobuf(X, bucket, prefix, key, d_type, Y=None):\n",
    "    buf = io.BytesIO()\n",
    "    if d_type == \"sparse\":\n",
    "        smac.write_spmatrix_to_sparse_tensor(buf, X, labels=Y)\n",
    "    else:\n",
    "        smac.write_numpy_to_dense_tensor(buf, X, labels=Y)\n",
    "        \n",
    "    buf.seek(0)\n",
    "    obj = '{}/{}'.format(prefix, key)\n",
    "    boto3.resource('s3').Bucket(bucket).Object(obj).upload_fileobj(buf)\n",
    "    return 's3://{}/{}'.format(bucket,obj)\n",
    "    \n",
    "knn_train_data_path = writeDatasetToProtobuf(mtx_X_train, bucket, train_prefix, train_key, \"sparse\", knn_train_label)\n",
    "knn_test_data_path = writeDatasetToProtobuf(mtx_X_test, bucket, test_prefix, test_key, \"sparse\", knn_test_label)\n",
    "\n",
    "print (\"Training data S3 path: \",knn_train_data_path)\n",
    "print (\"Test data S3 path: \",knn_test_data_path)\n",
    "print (\"FM model output S3 path: {}\".format(output_prefix))"
   ]
  },
  {
   "cell_type": "code",
   "execution_count": 22,
   "metadata": {},
   "outputs": [],
   "source": [
    "knn_prefix = 'knn'\n",
    "knn_output_prefix  = 's3://{}/{}/output'.format(bucket, knn_prefix)"
   ]
  },
  {
   "cell_type": "markdown",
   "metadata": {},
   "source": [
    "## Creating an Esitmator for K-NearestNeighbor"
   ]
  },
  {
   "cell_type": "code",
   "execution_count": 23,
   "metadata": {},
   "outputs": [],
   "source": [
    "instance_type='ml.m5.large'\n",
    "role = 'arn:aws:iam::719009365707:role/role_sagemaker'"
   ]
  },
  {
   "cell_type": "code",
   "execution_count": 24,
   "metadata": {},
   "outputs": [],
   "source": [
    "knn = sagemaker.estimator.Estimator(get_image_uri(boto3.Session().region_name, \"knn\"),\n",
    "    role,\n",
    "    train_instance_count=1,\n",
    "    train_instance_type=instance_type,\n",
    "    output_path=knn_output_prefix,\n",
    "    sagemaker_session=sagemaker.Session())"
   ]
  },
  {
   "cell_type": "markdown",
   "metadata": {},
   "source": [
    "## Define Auto-tuning job with HyperParameter Optimization (HPO) objective metrics and HPO parameters"
   ]
  },
  {
   "cell_type": "code",
   "execution_count": 25,
   "metadata": {},
   "outputs": [],
   "source": [
    "knn.set_hyperparameters(feature_dim='610', \n",
    "                        index_metric=\"INNER_PRODUCT\", \n",
    "                        predictor_type='regressor'\n",
    "                        )"
   ]
  },
  {
   "cell_type": "code",
   "execution_count": 26,
   "metadata": {},
   "outputs": [],
   "source": [
    "hyperparameter_ranges = {'k': IntegerParameter(1,10),\n",
    "    'sample_size': IntegerParameter(5000,20000)}"
   ]
  },
  {
   "cell_type": "code",
   "execution_count": 27,
   "metadata": {},
   "outputs": [],
   "source": [
    "objective_metric_type='test:mse'"
   ]
  },
  {
   "cell_type": "code",
   "execution_count": 28,
   "metadata": {},
   "outputs": [],
   "source": [
    "tuner_knn = HyperparameterTuner(knn,\n",
    "                                objective_metric_type,\n",
    "                                hyperparameter_ranges,\n",
    "                                objective_type='Minimize',\n",
    "                                base_tuning_job_name='knn-HPO',\n",
    "                                max_jobs=5,\n",
    "                                max_parallel_jobs=2)"
   ]
  },
  {
   "cell_type": "markdown",
   "metadata": {},
   "source": [
    "## Fit the HPO tuning job"
   ]
  },
  {
   "cell_type": "code",
   "execution_count": 29,
   "metadata": {},
   "outputs": [],
   "source": [
    "fit_input = {'train': knn_train_data_path, 'test': knn_test_data_path}\n",
    "tuner_knn.fit(fit_input)"
   ]
  },
  {
   "cell_type": "markdown",
   "metadata": {},
   "source": [
    "## Deploy the Best model which is provided by Hyperparameter tuner"
   ]
  },
  {
   "cell_type": "code",
   "execution_count": 30,
   "metadata": {},
   "outputs": [
    {
     "name": "stdout",
     "output_type": "stream",
     "text": [
      "2021-01-10 14:56:04 Starting - Preparing the instances for training\n",
      "2021-01-10 14:56:04 Downloading - Downloading input data\n",
      "2021-01-10 14:56:04 Training - Training image download completed. Training in progress.\n",
      "2021-01-10 14:56:04 Uploading - Uploading generated training model\n",
      "2021-01-10 14:56:04 Completed - Training job completed\u001b[34mDocker entrypoint called with argument(s): train\u001b[0m\n",
      "\u001b[34mRunning default environment configuration script\u001b[0m\n",
      "\u001b[34m[01/10/2021 14:55:50 INFO 140043370022720] Reading default configuration from /opt/amazon/lib/python2.7/site-packages/algorithm/resources/default-conf.json: {u'index_metric': u'L2', u'_tuning_objective_metric': u'', u'_num_gpus': u'auto', u'_log_level': u'info', u'feature_dim': u'auto', u'faiss_index_ivf_nlists': u'auto', u'epochs': u'1', u'index_type': u'faiss.Flat', u'_faiss_index_nprobe': u'5', u'_kvstore': u'dist_async', u'_num_kv_servers': u'1', u'mini_batch_size': u'5000'}\u001b[0m\n",
      "\u001b[34m[01/10/2021 14:55:50 INFO 140043370022720] Merging with provided configuration from /opt/ml/input/config/hyperparameters.json: {u'index_metric': u'INNER_PRODUCT', u'predictor_type': u'regressor', u'_tuning_objective_metric': u'test:mse', u'k': u'10', u'sample_size': u'9222', u'feature_dim': u'610'}\u001b[0m\n",
      "\u001b[34m[01/10/2021 14:55:50 INFO 140043370022720] Final configuration: {u'index_metric': u'INNER_PRODUCT', u'predictor_type': u'regressor', u'_tuning_objective_metric': u'test:mse', u'_num_gpus': u'auto', u'_log_level': u'info', u'feature_dim': u'610', u'faiss_index_ivf_nlists': u'auto', u'sample_size': u'9222', u'epochs': u'1', u'index_type': u'faiss.Flat', u'_faiss_index_nprobe': u'5', u'_kvstore': u'dist_async', u'_num_kv_servers': u'1', u'mini_batch_size': u'5000', u'k': u'10'}\u001b[0m\n",
      "\u001b[34m[01/10/2021 14:55:50 WARNING 140043370022720] Loggers have already been setup.\u001b[0m\n",
      "\u001b[34m[01/10/2021 14:55:50 INFO 140043370022720] Launching parameter server for role scheduler\u001b[0m\n",
      "\u001b[34m[01/10/2021 14:55:50 INFO 140043370022720] {'ECS_CONTAINER_METADATA_URI': 'http://169.254.170.2/v3/98f63d2f-bfb9-4d2c-bfb9-2b439f392d05', 'ECS_CONTAINER_METADATA_URI_V4': 'http://169.254.170.2/v4/98f63d2f-bfb9-4d2c-bfb9-2b439f392d05', 'PROTOCOL_BUFFERS_PYTHON_IMPLEMENTATION_VERSION': '2', 'PATH': '/opt/amazon/bin:/usr/local/nvidia/bin:/usr/local/sbin:/usr/local/bin:/usr/sbin:/usr/bin:/sbin:/bin:/opt/amazon/bin:/opt/amazon/bin', 'SAGEMAKER_HTTP_PORT': '8080', 'HOME': '/root', 'PYTHONUNBUFFERED': 'TRUE', 'CANONICAL_ENVROOT': '/opt/amazon', 'LD_LIBRARY_PATH': '/opt/amazon/lib/python2.7/site-packages/cv2/../../../../lib:/usr/local/nvidia/lib64:/opt/amazon/lib', 'LANG': 'en_US.utf8', 'DMLC_INTERFACE': 'eth0', 'SHLVL': '1', 'AWS_REGION': 'us-east-1', 'SAGEMAKER_METRICS_DIRECTORY': '/opt/ml/output/metrics/sagemaker', 'NVIDIA_VISIBLE_DEVICES': 'void', 'TRAINING_JOB_NAME': 'knn-HPO-210110-0945-005-f5e30bdb', 'PROTOCOL_BUFFERS_PYTHON_IMPLEMENTATION': 'cpp', 'ENVROOT': '/opt/amazon', 'SAGEMAKER_DATA_PATH': '/opt/ml', 'NVIDIA_DRIVER_CAPABILITIES': 'compute,utility', 'NVIDIA_REQUIRE_CUDA': 'cuda>=9.0', 'OMP_NUM_THREADS': '1', 'HOSTNAME': 'ip-10-0-118-58.ec2.internal', 'AWS_CONTAINER_CREDENTIALS_RELATIVE_URI': '/v2/credentials/75653ce8-cbb6-44a0-b52a-6969af680b15', 'PWD': '/', 'TRAINING_JOB_ARN': 'arn:aws:sagemaker:us-east-1:719009365707:training-job/knn-hpo-210110-0945-005-f5e30bdb', 'AWS_EXECUTION_ENV': 'AWS_ECS_EC2'}\u001b[0m\n",
      "\u001b[34m[01/10/2021 14:55:50 INFO 140043370022720] envs={'ECS_CONTAINER_METADATA_URI': 'http://169.254.170.2/v3/98f63d2f-bfb9-4d2c-bfb9-2b439f392d05', 'ECS_CONTAINER_METADATA_URI_V4': 'http://169.254.170.2/v4/98f63d2f-bfb9-4d2c-bfb9-2b439f392d05', 'PROTOCOL_BUFFERS_PYTHON_IMPLEMENTATION_VERSION': '2', 'DMLC_NUM_WORKER': '1', 'DMLC_PS_ROOT_PORT': '9000', 'PATH': '/opt/amazon/bin:/usr/local/nvidia/bin:/usr/local/sbin:/usr/local/bin:/usr/sbin:/usr/bin:/sbin:/bin:/opt/amazon/bin:/opt/amazon/bin', 'SAGEMAKER_HTTP_PORT': '8080', 'HOME': '/root', 'PYTHONUNBUFFERED': 'TRUE', 'CANONICAL_ENVROOT': '/opt/amazon', 'LD_LIBRARY_PATH': '/opt/amazon/lib/python2.7/site-packages/cv2/../../../../lib:/usr/local/nvidia/lib64:/opt/amazon/lib', 'LANG': 'en_US.utf8', 'DMLC_INTERFACE': 'eth0', 'SHLVL': '1', 'DMLC_PS_ROOT_URI': '10.0.118.58', 'AWS_REGION': 'us-east-1', 'SAGEMAKER_METRICS_DIRECTORY': '/opt/ml/output/metrics/sagemaker', 'NVIDIA_VISIBLE_DEVICES': 'void', 'TRAINING_JOB_NAME': 'knn-HPO-210110-0945-005-f5e30bdb', 'PROTOCOL_BUFFERS_PYTHON_IMPLEMENTATION': 'cpp', 'ENVROOT': '/opt/amazon', 'SAGEMAKER_DATA_PATH': '/opt/ml', 'NVIDIA_DRIVER_CAPABILITIES': 'compute,utility', 'NVIDIA_REQUIRE_CUDA': 'cuda>=9.0', 'OMP_NUM_THREADS': '1', 'HOSTNAME': 'ip-10-0-118-58.ec2.internal', 'AWS_CONTAINER_CREDENTIALS_RELATIVE_URI': '/v2/credentials/75653ce8-cbb6-44a0-b52a-6969af680b15', 'DMLC_ROLE': 'scheduler', 'PWD': '/', 'DMLC_NUM_SERVER': '1', 'TRAINING_JOB_ARN': 'arn:aws:sagemaker:us-east-1:719009365707:training-job/knn-hpo-210110-0945-005-f5e30bdb', 'AWS_EXECUTION_ENV': 'AWS_ECS_EC2'}\u001b[0m\n",
      "\u001b[34m[01/10/2021 14:55:50 INFO 140043370022720] Launching parameter server for role server\u001b[0m\n",
      "\u001b[34m[01/10/2021 14:55:50 INFO 140043370022720] {'ECS_CONTAINER_METADATA_URI': 'http://169.254.170.2/v3/98f63d2f-bfb9-4d2c-bfb9-2b439f392d05', 'ECS_CONTAINER_METADATA_URI_V4': 'http://169.254.170.2/v4/98f63d2f-bfb9-4d2c-bfb9-2b439f392d05', 'PROTOCOL_BUFFERS_PYTHON_IMPLEMENTATION_VERSION': '2', 'PATH': '/opt/amazon/bin:/usr/local/nvidia/bin:/usr/local/sbin:/usr/local/bin:/usr/sbin:/usr/bin:/sbin:/bin:/opt/amazon/bin:/opt/amazon/bin', 'SAGEMAKER_HTTP_PORT': '8080', 'HOME': '/root', 'PYTHONUNBUFFERED': 'TRUE', 'CANONICAL_ENVROOT': '/opt/amazon', 'LD_LIBRARY_PATH': '/opt/amazon/lib/python2.7/site-packages/cv2/../../../../lib:/usr/local/nvidia/lib64:/opt/amazon/lib', 'LANG': 'en_US.utf8', 'DMLC_INTERFACE': 'eth0', 'SHLVL': '1', 'AWS_REGION': 'us-east-1', 'SAGEMAKER_METRICS_DIRECTORY': '/opt/ml/output/metrics/sagemaker', 'NVIDIA_VISIBLE_DEVICES': 'void', 'TRAINING_JOB_NAME': 'knn-HPO-210110-0945-005-f5e30bdb', 'PROTOCOL_BUFFERS_PYTHON_IMPLEMENTATION': 'cpp', 'ENVROOT': '/opt/amazon', 'SAGEMAKER_DATA_PATH': '/opt/ml', 'NVIDIA_DRIVER_CAPABILITIES': 'compute,utility', 'NVIDIA_REQUIRE_CUDA': 'cuda>=9.0', 'OMP_NUM_THREADS': '1', 'HOSTNAME': 'ip-10-0-118-58.ec2.internal', 'AWS_CONTAINER_CREDENTIALS_RELATIVE_URI': '/v2/credentials/75653ce8-cbb6-44a0-b52a-6969af680b15', 'PWD': '/', 'TRAINING_JOB_ARN': 'arn:aws:sagemaker:us-east-1:719009365707:training-job/knn-hpo-210110-0945-005-f5e30bdb', 'AWS_EXECUTION_ENV': 'AWS_ECS_EC2'}\u001b[0m\n",
      "\u001b[34m[01/10/2021 14:55:50 INFO 140043370022720] envs={'ECS_CONTAINER_METADATA_URI': 'http://169.254.170.2/v3/98f63d2f-bfb9-4d2c-bfb9-2b439f392d05', 'ECS_CONTAINER_METADATA_URI_V4': 'http://169.254.170.2/v4/98f63d2f-bfb9-4d2c-bfb9-2b439f392d05', 'PROTOCOL_BUFFERS_PYTHON_IMPLEMENTATION_VERSION': '2', 'DMLC_NUM_WORKER': '1', 'DMLC_PS_ROOT_PORT': '9000', 'PATH': '/opt/amazon/bin:/usr/local/nvidia/bin:/usr/local/sbin:/usr/local/bin:/usr/sbin:/usr/bin:/sbin:/bin:/opt/amazon/bin:/opt/amazon/bin', 'SAGEMAKER_HTTP_PORT': '8080', 'HOME': '/root', 'PYTHONUNBUFFERED': 'TRUE', 'CANONICAL_ENVROOT': '/opt/amazon', 'LD_LIBRARY_PATH': '/opt/amazon/lib/python2.7/site-packages/cv2/../../../../lib:/usr/local/nvidia/lib64:/opt/amazon/lib', 'LANG': 'en_US.utf8', 'DMLC_INTERFACE': 'eth0', 'SHLVL': '1', 'DMLC_PS_ROOT_URI': '10.0.118.58', 'AWS_REGION': 'us-east-1', 'SAGEMAKER_METRICS_DIRECTORY': '/opt/ml/output/metrics/sagemaker', 'NVIDIA_VISIBLE_DEVICES': 'void', 'TRAINING_JOB_NAME': 'knn-HPO-210110-0945-005-f5e30bdb', 'PROTOCOL_BUFFERS_PYTHON_IMPLEMENTATION': 'cpp', 'ENVROOT': '/opt/amazon', 'SAGEMAKER_DATA_PATH': '/opt/ml', 'NVIDIA_DRIVER_CAPABILITIES': 'compute,utility', 'NVIDIA_REQUIRE_CUDA': 'cuda>=9.0', 'OMP_NUM_THREADS': '1', 'HOSTNAME': 'ip-10-0-118-58.ec2.internal', 'AWS_CONTAINER_CREDENTIALS_RELATIVE_URI': '/v2/credentials/75653ce8-cbb6-44a0-b52a-6969af680b15', 'DMLC_ROLE': 'server', 'PWD': '/', 'DMLC_NUM_SERVER': '1', 'TRAINING_JOB_ARN': 'arn:aws:sagemaker:us-east-1:719009365707:training-job/knn-hpo-210110-0945-005-f5e30bdb', 'AWS_EXECUTION_ENV': 'AWS_ECS_EC2'}\u001b[0m\n",
      "\u001b[34m[01/10/2021 14:55:50 INFO 140043370022720] Environment: {'ECS_CONTAINER_METADATA_URI': 'http://169.254.170.2/v3/98f63d2f-bfb9-4d2c-bfb9-2b439f392d05', 'ECS_CONTAINER_METADATA_URI_V4': 'http://169.254.170.2/v4/98f63d2f-bfb9-4d2c-bfb9-2b439f392d05', 'PROTOCOL_BUFFERS_PYTHON_IMPLEMENTATION_VERSION': '2', 'DMLC_PS_ROOT_PORT': '9000', 'DMLC_NUM_WORKER': '1', 'SAGEMAKER_HTTP_PORT': '8080', 'PATH': '/opt/amazon/bin:/usr/local/nvidia/bin:/usr/local/sbin:/usr/local/bin:/usr/sbin:/usr/bin:/sbin:/bin:/opt/amazon/bin:/opt/amazon/bin', 'PYTHONUNBUFFERED': 'TRUE', 'CANONICAL_ENVROOT': '/opt/amazon', 'LD_LIBRARY_PATH': '/opt/amazon/lib/python2.7/site-packages/cv2/../../../../lib:/usr/local/nvidia/lib64:/opt/amazon/lib', 'LANG': 'en_US.utf8', 'DMLC_INTERFACE': 'eth0', 'SHLVL': '1', 'DMLC_PS_ROOT_URI': '10.0.118.58', 'AWS_REGION': 'us-east-1', 'SAGEMAKER_METRICS_DIRECTORY': '/opt/ml/output/metrics/sagemaker', 'NVIDIA_VISIBLE_DEVICES': 'void', 'TRAINING_JOB_NAME': 'knn-HPO-210110-0945-005-f5e30bdb', 'HOME': '/root', 'PROTOCOL_BUFFERS_PYTHON_IMPLEMENTATION': 'cpp', 'ENVROOT': '/opt/amazon', 'SAGEMAKER_DATA_PATH': '/opt/ml', 'NVIDIA_DRIVER_CAPABILITIES': 'compute,utility', 'NVIDIA_REQUIRE_CUDA': 'cuda>=9.0', 'OMP_NUM_THREADS': '1', 'HOSTNAME': 'ip-10-0-118-58.ec2.internal', 'AWS_CONTAINER_CREDENTIALS_RELATIVE_URI': '/v2/credentials/75653ce8-cbb6-44a0-b52a-6969af680b15', 'DMLC_ROLE': 'worker', 'PWD': '/', 'DMLC_NUM_SERVER': '1', 'TRAINING_JOB_ARN': 'arn:aws:sagemaker:us-east-1:719009365707:training-job/knn-hpo-210110-0945-005-f5e30bdb', 'AWS_EXECUTION_ENV': 'AWS_ECS_EC2'}\u001b[0m\n",
      "\u001b[34mProcess 58 is a shell:scheduler.\u001b[0m\n",
      "\u001b[34mProcess 67 is a shell:server.\u001b[0m\n",
      "\u001b[34mProcess 1 is a worker.\u001b[0m\n",
      "\u001b[34m[01/10/2021 14:55:50 INFO 140043370022720] Using default worker.\u001b[0m\n",
      "\u001b[34m[01/10/2021 14:55:51 INFO 140043370022720] Checkpoint loading and saving are disabled.\u001b[0m\n",
      "\u001b[34m[2021-01-10 14:55:51.625] [tensorio] [warning] TensorIO is already initialized; ignoring the initialization routine.\u001b[0m\n",
      "\u001b[34m[01/10/2021 14:55:51 INFO 140043370022720] nvidia-smi took: 0.0251569747925 secs to identify 0 gpus\u001b[0m\n",
      "\u001b[34m[01/10/2021 14:55:51 INFO 140043370022720] Create Store: dist_async\u001b[0m\n",
      "\u001b[34m[01/10/2021 14:55:52 ERROR 140043370022720] nvidia-smi: failed to run (127): /bin/sh: nvidia-smi: command not found\u001b[0m\n",
      "\u001b[34m[01/10/2021 14:55:52 INFO 140043370022720] Using per-worker sample size = 9222 (Available virtual memory = 6501036032 bytes, GPU free memory = 0 bytes, number of workers = 1). If an out-of-memory error occurs, choose a larger instance type, use dimension reduction, decrease sample_size, and/or decrease mini_batch_size.\u001b[0m\n",
      "\u001b[34m#metrics {\"Metrics\": {\"Max Batches Seen Between Resets\": {\"count\": 1, \"max\": 0, \"sum\": 0.0, \"min\": 0}, \"Number of Batches Since Last Reset\": {\"count\": 1, \"max\": 0, \"sum\": 0.0, \"min\": 0}, \"Number of Records Since Last Reset\": {\"count\": 1, \"max\": 0, \"sum\": 0.0, \"min\": 0}, \"Total Batches Seen\": {\"count\": 1, \"max\": 0, \"sum\": 0.0, \"min\": 0}, \"Total Records Seen\": {\"count\": 1, \"max\": 0, \"sum\": 0.0, \"min\": 0}, \"Max Records Seen Between Resets\": {\"count\": 1, \"max\": 0, \"sum\": 0.0, \"min\": 0}, \"Reset Count\": {\"count\": 1, \"max\": 0, \"sum\": 0.0, \"min\": 0}}, \"EndTime\": 1610290552.490989, \"Dimensions\": {\"Host\": \"algo-1\", \"Meta\": \"init_train_data_iter\", \"Operation\": \"training\", \"Algorithm\": \"AWS/KNN\"}, \"StartTime\": 1610290552.490947}\n",
      "\u001b[0m\n",
      "\u001b[34m[2021-01-10 14:55:52.491] [tensorio] [info] epoch_stats={\"data_pipeline\": \"/opt/ml/input/data/train\", \"epoch\": 0, \"duration\": 924, \"num_examples\": 1, \"num_bytes\": 556552}\u001b[0m\n",
      "\u001b[34m[14:55:52] /opt/brazil-pkg-cache/packages/AIAlgorithmsMXNet/AIAlgorithmsMXNet-1.3.x.4739.0/AL2012/generic-flavor/src/src/executor/../operator/../common/utils.h:450: \u001b[0m\n",
      "\u001b[34mStorage type fallback detected:\u001b[0m\n",
      "\u001b[34moperator = _slice_assign\u001b[0m\n",
      "\u001b[34minput storage types = [default, csr, ]\u001b[0m\n",
      "\u001b[34moutput storage types = [default, ]\u001b[0m\n",
      "\u001b[34mparams = {\"step\" : [None, None], \"end\" : [None, -2], \"begin\" : [None, None], }\u001b[0m\n",
      "\u001b[34mcontext.dev_mask = cpu\u001b[0m\n",
      "\u001b[34mThe operator with default storage type will be dispatched for execution. You're seeing this warning message because the operator above is unable to process the given ndarrays with specified storage types, context and parameter. Temporary dense ndarrays are generated in order to execute the operator. This does not affect the correctness of the programme. You can set environment variable MXNET_STORAGE_FALLBACK_LOG_VERBOSE to 0 to suppress this warning.\u001b[0m\n",
      "\u001b[34m[2021-01-10 14:55:52.565] [tensorio] [info] epoch_stats={\"data_pipeline\": \"/opt/ml/input/data/train\", \"epoch\": 1, \"duration\": 73, \"num_examples\": 2, \"num_bytes\": 722796}\u001b[0m\n",
      "\u001b[34m[01/10/2021 14:55:52 INFO 140043370022720] push reservoir to kv... 1 num_workers 0 rank\u001b[0m\n",
      "\u001b[34m[01/10/2021 14:55:52 INFO 140043370022720] ...done (6515)\u001b[0m\n",
      "\u001b[34m[01/10/2021 14:55:52 INFO 140043370022720] #progress_metric: host=algo-1, completed 100 % of epochs\u001b[0m\n",
      "\u001b[34m#metrics {\"Metrics\": {\"Max Batches Seen Between Resets\": {\"count\": 1, \"max\": 2, \"sum\": 2.0, \"min\": 2}, \"Number of Batches Since Last Reset\": {\"count\": 1, \"max\": 2, \"sum\": 2.0, \"min\": 2}, \"Number of Records Since Last Reset\": {\"count\": 1, \"max\": 6515, \"sum\": 6515.0, \"min\": 6515}, \"Total Batches Seen\": {\"count\": 1, \"max\": 2, \"sum\": 2.0, \"min\": 2}, \"Total Records Seen\": {\"count\": 1, \"max\": 6515, \"sum\": 6515.0, \"min\": 6515}, \"Max Records Seen Between Resets\": {\"count\": 1, \"max\": 6515, \"sum\": 6515.0, \"min\": 6515}, \"Reset Count\": {\"count\": 1, \"max\": 1, \"sum\": 1.0, \"min\": 1}}, \"EndTime\": 1610290552.586643, \"Dimensions\": {\"Host\": \"algo-1\", \"Meta\": \"training_data_iter\", \"Operation\": \"training\", \"Algorithm\": \"AWS/KNN\", \"epoch\": 0}, \"StartTime\": 1610290552.491429}\n",
      "\u001b[0m\n",
      "\u001b[34m[01/10/2021 14:55:52 INFO 140043370022720] #throughput_metric: host=algo-1, train throughput=68282.804189 records/second\u001b[0m\n",
      "\u001b[34m[01/10/2021 14:55:52 INFO 140043370022720] pulled row count... worker 0 rows 6515\u001b[0m\n",
      "\u001b[34m[01/10/2021 14:55:52 INFO 140043370022720] pulled... worker 0 data (6515, 610) labels (6515,) nans 0\u001b[0m\n",
      "\u001b[34m[01/10/2021 14:55:52 INFO 140043370022720] calling index.train...\u001b[0m\n",
      "\u001b[34m[01/10/2021 14:55:52 INFO 140043370022720] ...done calling index.train\u001b[0m\n",
      "\u001b[34m[01/10/2021 14:55:52 INFO 140043370022720] calling index.add...\u001b[0m\n",
      "\u001b[34m[01/10/2021 14:55:52 INFO 140043370022720] ...done calling index.add\u001b[0m\n",
      "\u001b[34m#metrics {\"Metrics\": {\"epochs\": {\"count\": 1, \"max\": 1, \"sum\": 1.0, \"min\": 1}, \"model.serialize.time\": {\"count\": 1, \"max\": 9.819984436035156, \"sum\": 9.819984436035156, \"min\": 9.819984436035156}, \"finalize.time\": {\"count\": 1, \"max\": 109.79795455932617, \"sum\": 109.79795455932617, \"min\": 109.79795455932617}, \"initialize.time\": {\"count\": 1, \"max\": 826.8890380859375, \"sum\": 826.8890380859375, \"min\": 826.8890380859375}, \"update.time\": {\"count\": 1, \"max\": 94.82598304748535, \"sum\": 94.82598304748535, \"min\": 94.82598304748535}}, \"EndTime\": 1610290552.706684, \"Dimensions\": {\"Host\": \"algo-1\", \"Operation\": \"training\", \"Algorithm\": \"AWS/KNN\"}, \"StartTime\": 1610290551.565931}\n",
      "\u001b[0m\n",
      "\u001b[34m[2021-01-10 14:55:52.973] [tensorio] [info] epoch_stats={\"data_pipeline\": \"/opt/ml/input/data/test\", \"epoch\": 0, \"duration\": 1347, \"num_examples\": 1, \"num_bytes\": 349668}\u001b[0m\n",
      "\u001b[34m#metrics {\"Metrics\": {\"Max Batches Seen Between Resets\": {\"count\": 1, \"max\": 1, \"sum\": 1.0, \"min\": 1}, \"Number of Batches Since Last Reset\": {\"count\": 1, \"max\": 1, \"sum\": 1.0, \"min\": 1}, \"Number of Records Since Last Reset\": {\"count\": 1, \"max\": 3209, \"sum\": 3209.0, \"min\": 3209}, \"Total Batches Seen\": {\"count\": 1, \"max\": 1, \"sum\": 1.0, \"min\": 1}, \"Total Records Seen\": {\"count\": 1, \"max\": 3209, \"sum\": 3209.0, \"min\": 3209}, \"Max Records Seen Between Resets\": {\"count\": 1, \"max\": 3209, \"sum\": 3209.0, \"min\": 3209}, \"Reset Count\": {\"count\": 1, \"max\": 0, \"sum\": 0.0, \"min\": 0}}, \"EndTime\": 1610290552.973239, \"Dimensions\": {\"Host\": \"algo-1\", \"Meta\": \"test_data_iter\", \"Operation\": \"training\", \"Algorithm\": \"AWS/KNN\"}, \"StartTime\": 1610290552.707323}\n",
      "\u001b[0m\n",
      "\u001b[34m[01/10/2021 14:55:52 INFO 140043370022720] #test_score (algo-1) : ('mse', 3222687.1151417885)\u001b[0m\n",
      "\u001b[34m[01/10/2021 14:55:52 INFO 140043370022720] #test_score (algo-1) : ('absolute_loss', 1503.7863197257711)\u001b[0m\n",
      "\u001b[34m[01/10/2021 14:55:52 INFO 140043370022720] #quality_metric: host=algo-1, test mse <loss>=3222687.11514\u001b[0m\n",
      "\u001b[34m[01/10/2021 14:55:52 INFO 140043370022720] #quality_metric: host=algo-1, test absolute_loss <loss>=1503.78631973\u001b[0m\n",
      "\u001b[34m#metrics {\"Metrics\": {\"totaltime\": {\"count\": 1, \"max\": 2439.6870136260986, \"sum\": 2439.6870136260986, \"min\": 2439.6870136260986}, \"setuptime\": {\"count\": 1, \"max\": 34.98411178588867, \"sum\": 34.98411178588867, \"min\": 34.98411178588867}}, \"EndTime\": 1610290552.974795, \"Dimensions\": {\"Host\": \"algo-1\", \"Operation\": \"training\", \"Algorithm\": \"AWS/KNN\"}, \"StartTime\": 1610290552.706762}\n",
      "\u001b[0m\n",
      "Training seconds: 76\n",
      "Billable seconds: 76\n"
     ]
    },
    {
     "name": "stdout",
     "output_type": "stream",
     "text": [
      "-------------!"
     ]
    }
   ],
   "source": [
    "knn_predictor = tuner_knn.deploy(instance_type='ml.m5.large', \n",
    "                            initial_instance_count=1,)"
   ]
  },
  {
   "cell_type": "markdown",
   "metadata": {},
   "source": [
    "## Prediction data input"
   ]
  },
  {
   "cell_type": "markdown",
   "metadata": {},
   "source": [
    "## Inference input serialization"
   ]
  },
  {
   "cell_type": "code",
   "execution_count": 31,
   "metadata": {},
   "outputs": [],
   "source": [
    "def knn_serializer(data):\n",
    "    js = {\"instances\": []}\n",
    "    for row in data:\n",
    "        js[\"instances\"].append({\"features\": row.tolist()})\n",
    "    return json.dumps(js).encode()\n",
    "\n",
    "\n",
    "knn_predictor.serializer = knn_serializer\n",
    "knn_predictor.deserializer = json_deserializer\n",
    "knn_predictor.accept = 'application/json; verbose=true'\n",
    "\n",
    "accept=\"application/jsonlines; verbose=true\""
   ]
  },
  {
   "cell_type": "markdown",
   "metadata": {},
   "source": [
    "## Predict the labels and nearest neighbor distances"
   ]
  },
  {
   "cell_type": "code",
   "execution_count": 32,
   "metadata": {},
   "outputs": [],
   "source": [
    "knn_result = knn_predictor.predict(mtx_X_test[1002:1004].toarray())"
   ]
  },
  {
   "cell_type": "code",
   "execution_count": 33,
   "metadata": {},
   "outputs": [],
   "source": [
    "import json"
   ]
  },
  {
   "cell_type": "code",
   "execution_count": 34,
   "metadata": {},
   "outputs": [],
   "source": [
    "results_json = json.dumps(knn_result, indent=10)"
   ]
  },
  {
   "cell_type": "code",
   "execution_count": 150,
   "metadata": {},
   "outputs": [
    {
     "name": "stdout",
     "output_type": "stream",
     "text": [
      "{\n",
      "          \"predictions\": [\n",
      "                    {\n",
      "                              \"distances\": [\n",
      "                                        0.0,\n",
      "                                        0.0,\n",
      "                                        0.0,\n",
      "                                        0.0,\n",
      "                                        0.0,\n",
      "                                        0.0,\n",
      "                                        0.0,\n",
      "                                        0.0,\n",
      "                                        0.0,\n",
      "                                        0.0,\n",
      "                                        0.0,\n",
      "                                        0.0,\n",
      "                                        0.15014603734016418,\n",
      "                                        0.3081578314304352,\n",
      "                                        0.4481106996536255\n",
      "                              ],\n",
      "                              \"predicted_label\": 3098.8,\n",
      "                              \"labels\": [\n",
      "                                        1647.0,\n",
      "                                        2228.0,\n",
      "                                        5909.0,\n",
      "                                        6163.0,\n",
      "                                        1001.0,\n",
      "                                        66.0,\n",
      "                                        2274.0,\n",
      "                                        72.0,\n",
      "                                        6062.0,\n",
      "                                        1541.0,\n",
      "                                        3495.0,\n",
      "                                        4320.0,\n",
      "                                        5148.0,\n",
      "                                        4610.0,\n",
      "                                        1946.0\n",
      "                              ]\n",
      "                    },\n",
      "                    {\n",
      "                              \"distances\": [\n",
      "                                        0.6556100845336914,\n",
      "                                        0.6643638610839844,\n",
      "                                        0.6726915836334229,\n",
      "                                        0.7001400589942932,\n",
      "                                        0.7071068286895752,\n",
      "                                        0.7525767087936401,\n",
      "                                        0.7808687686920166,\n",
      "                                        0.800000011920929,\n",
      "                                        1.0,\n",
      "                                        1.0,\n",
      "                                        1.0,\n",
      "                                        1.0,\n",
      "                                        1.0,\n",
      "                                        1.0,\n",
      "                                        1.0\n",
      "                              ],\n",
      "                              \"predicted_label\": 3714.0,\n",
      "                              \"labels\": [\n",
      "                                        3751.0,\n",
      "                                        2271.0,\n",
      "                                        4788.0,\n",
      "                                        2099.0,\n",
      "                                        3495.0,\n",
      "                                        4559.0,\n",
      "                                        907.0,\n",
      "                                        4320.0,\n",
      "                                        4398.0,\n",
      "                                        3467.0,\n",
      "                                        1379.0,\n",
      "                                        5161.0,\n",
      "                                        6260.0,\n",
      "                                        3895.0,\n",
      "                                        4960.0\n",
      "                              ]\n",
      "                    }\n",
      "          ]\n",
      "}\n"
     ]
    }
   ],
   "source": [
    "print(results_json)"
   ]
  },
  {
   "cell_type": "code",
   "execution_count": null,
   "metadata": {},
   "outputs": [],
   "source": []
  }
 ],
 "metadata": {
  "kernelspec": {
   "display_name": "Python 3",
   "language": "python",
   "name": "python3"
  },
  "language_info": {
   "codemirror_mode": {
    "name": "ipython",
    "version": 3
   },
   "file_extension": ".py",
   "mimetype": "text/x-python",
   "name": "python",
   "nbconvert_exporter": "python",
   "pygments_lexer": "ipython3",
   "version": "3.5.4"
  }
 },
 "nbformat": 4,
 "nbformat_minor": 4
}
